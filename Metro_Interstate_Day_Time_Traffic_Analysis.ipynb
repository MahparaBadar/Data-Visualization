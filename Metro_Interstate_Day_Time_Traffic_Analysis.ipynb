{
 "cells": [
  {
   "cell_type": "code",
   "execution_count": 1,
   "id": "e1920666",
   "metadata": {},
   "outputs": [],
   "source": [
    "url = \"https://archive.ics.uci.edu/static/public/492/metro+interstate+traffic+volume.zip\""
   ]
  },
  {
   "cell_type": "code",
   "execution_count": 2,
   "id": "869db716",
   "metadata": {},
   "outputs": [],
   "source": [
    "import requests"
   ]
  },
  {
   "cell_type": "code",
   "execution_count": 3,
   "id": "c86bac95",
   "metadata": {},
   "outputs": [],
   "source": [
    "response = requests.get(url)"
   ]
  },
  {
   "cell_type": "code",
   "execution_count": 4,
   "id": "3d5301af",
   "metadata": {},
   "outputs": [
    {
     "data": {
      "text/plain": [
       "<Response [200]>"
      ]
     },
     "execution_count": 4,
     "metadata": {},
     "output_type": "execute_result"
    }
   ],
   "source": [
    "response"
   ]
  },
  {
   "cell_type": "code",
   "execution_count": 5,
   "id": "ff861ace",
   "metadata": {},
   "outputs": [
    {
     "data": {
      "text/plain": [
       "200"
      ]
     },
     "execution_count": 5,
     "metadata": {},
     "output_type": "execute_result"
    }
   ],
   "source": [
    "response.status_code"
   ]
  },
  {
   "cell_type": "code",
   "execution_count": 6,
   "id": "440fdba0",
   "metadata": {},
   "outputs": [],
   "source": [
    "with open(\"Metro Interstate Traffic Volume.zip\", \"wb\") as f:\n",
    "    f.write(response.content)"
   ]
  },
  {
   "cell_type": "code",
   "execution_count": 7,
   "id": "b0a78125",
   "metadata": {},
   "outputs": [],
   "source": [
    "import zipfile"
   ]
  },
  {
   "cell_type": "code",
   "execution_count": 8,
   "id": "f4abc3c3",
   "metadata": {},
   "outputs": [],
   "source": [
    "with zipfile.ZipFile(\"Metro Interstate Traffic Volume.zip\") as zipped:\n",
    "    zipped.extractall(\"Metro Interstate Traffic Volume\")"
   ]
  },
  {
   "cell_type": "code",
   "execution_count": 9,
   "id": "c4e66de9",
   "metadata": {},
   "outputs": [],
   "source": [
    "import pandas as pd"
   ]
  },
  {
   "cell_type": "code",
   "execution_count": 10,
   "id": "f17c95b2",
   "metadata": {},
   "outputs": [],
   "source": [
    "i_94 = pd.read_csv(r\"C:\\Users\\hp 840g6\\OneDrive\\Desktop\\Data Visualization\\Session 7\\Metro Interstate Traffic Volume\\Metro_Interstate_Traffic_Volume.csv\\Metro_Interstate_Traffic_Volume.csv\")"
   ]
  },
  {
   "cell_type": "code",
   "execution_count": 11,
   "id": "b89e21c2",
   "metadata": {},
   "outputs": [
    {
     "data": {
      "text/html": [
       "<div>\n",
       "<style scoped>\n",
       "    .dataframe tbody tr th:only-of-type {\n",
       "        vertical-align: middle;\n",
       "    }\n",
       "\n",
       "    .dataframe tbody tr th {\n",
       "        vertical-align: top;\n",
       "    }\n",
       "\n",
       "    .dataframe thead th {\n",
       "        text-align: right;\n",
       "    }\n",
       "</style>\n",
       "<table border=\"1\" class=\"dataframe\">\n",
       "  <thead>\n",
       "    <tr style=\"text-align: right;\">\n",
       "      <th></th>\n",
       "      <th>holiday</th>\n",
       "      <th>temp</th>\n",
       "      <th>rain_1h</th>\n",
       "      <th>snow_1h</th>\n",
       "      <th>clouds_all</th>\n",
       "      <th>weather_main</th>\n",
       "      <th>weather_description</th>\n",
       "      <th>date_time</th>\n",
       "      <th>traffic_volume</th>\n",
       "    </tr>\n",
       "  </thead>\n",
       "  <tbody>\n",
       "    <tr>\n",
       "      <th>0</th>\n",
       "      <td>None</td>\n",
       "      <td>288.28</td>\n",
       "      <td>0.0</td>\n",
       "      <td>0.0</td>\n",
       "      <td>40</td>\n",
       "      <td>Clouds</td>\n",
       "      <td>scattered clouds</td>\n",
       "      <td>2012-10-02 09:00:00</td>\n",
       "      <td>5545</td>\n",
       "    </tr>\n",
       "    <tr>\n",
       "      <th>1</th>\n",
       "      <td>None</td>\n",
       "      <td>289.36</td>\n",
       "      <td>0.0</td>\n",
       "      <td>0.0</td>\n",
       "      <td>75</td>\n",
       "      <td>Clouds</td>\n",
       "      <td>broken clouds</td>\n",
       "      <td>2012-10-02 10:00:00</td>\n",
       "      <td>4516</td>\n",
       "    </tr>\n",
       "    <tr>\n",
       "      <th>2</th>\n",
       "      <td>None</td>\n",
       "      <td>289.58</td>\n",
       "      <td>0.0</td>\n",
       "      <td>0.0</td>\n",
       "      <td>90</td>\n",
       "      <td>Clouds</td>\n",
       "      <td>overcast clouds</td>\n",
       "      <td>2012-10-02 11:00:00</td>\n",
       "      <td>4767</td>\n",
       "    </tr>\n",
       "    <tr>\n",
       "      <th>3</th>\n",
       "      <td>None</td>\n",
       "      <td>290.13</td>\n",
       "      <td>0.0</td>\n",
       "      <td>0.0</td>\n",
       "      <td>90</td>\n",
       "      <td>Clouds</td>\n",
       "      <td>overcast clouds</td>\n",
       "      <td>2012-10-02 12:00:00</td>\n",
       "      <td>5026</td>\n",
       "    </tr>\n",
       "    <tr>\n",
       "      <th>4</th>\n",
       "      <td>None</td>\n",
       "      <td>291.14</td>\n",
       "      <td>0.0</td>\n",
       "      <td>0.0</td>\n",
       "      <td>75</td>\n",
       "      <td>Clouds</td>\n",
       "      <td>broken clouds</td>\n",
       "      <td>2012-10-02 13:00:00</td>\n",
       "      <td>4918</td>\n",
       "    </tr>\n",
       "  </tbody>\n",
       "</table>\n",
       "</div>"
      ],
      "text/plain": [
       "  holiday    temp  rain_1h  snow_1h  clouds_all weather_main  \\\n",
       "0    None  288.28      0.0      0.0          40       Clouds   \n",
       "1    None  289.36      0.0      0.0          75       Clouds   \n",
       "2    None  289.58      0.0      0.0          90       Clouds   \n",
       "3    None  290.13      0.0      0.0          90       Clouds   \n",
       "4    None  291.14      0.0      0.0          75       Clouds   \n",
       "\n",
       "  weather_description            date_time  traffic_volume  \n",
       "0    scattered clouds  2012-10-02 09:00:00            5545  \n",
       "1       broken clouds  2012-10-02 10:00:00            4516  \n",
       "2     overcast clouds  2012-10-02 11:00:00            4767  \n",
       "3     overcast clouds  2012-10-02 12:00:00            5026  \n",
       "4       broken clouds  2012-10-02 13:00:00            4918  "
      ]
     },
     "execution_count": 11,
     "metadata": {},
     "output_type": "execute_result"
    }
   ],
   "source": [
    "i_94.head()"
   ]
  },
  {
   "cell_type": "code",
   "execution_count": 12,
   "id": "5aefe226",
   "metadata": {},
   "outputs": [
    {
     "name": "stdout",
     "output_type": "stream",
     "text": [
      "<class 'pandas.core.frame.DataFrame'>\n",
      "RangeIndex: 48204 entries, 0 to 48203\n",
      "Data columns (total 9 columns):\n",
      " #   Column               Non-Null Count  Dtype  \n",
      "---  ------               --------------  -----  \n",
      " 0   holiday              48204 non-null  object \n",
      " 1   temp                 48204 non-null  float64\n",
      " 2   rain_1h              48204 non-null  float64\n",
      " 3   snow_1h              48204 non-null  float64\n",
      " 4   clouds_all           48204 non-null  int64  \n",
      " 5   weather_main         48204 non-null  object \n",
      " 6   weather_description  48204 non-null  object \n",
      " 7   date_time            48204 non-null  object \n",
      " 8   traffic_volume       48204 non-null  int64  \n",
      "dtypes: float64(3), int64(2), object(4)\n",
      "memory usage: 3.3+ MB\n"
     ]
    }
   ],
   "source": [
    "i_94.info()"
   ]
  },
  {
   "cell_type": "code",
   "execution_count": 13,
   "id": "39de8384",
   "metadata": {},
   "outputs": [
    {
     "data": {
      "text/html": [
       "<div>\n",
       "<style scoped>\n",
       "    .dataframe tbody tr th:only-of-type {\n",
       "        vertical-align: middle;\n",
       "    }\n",
       "\n",
       "    .dataframe tbody tr th {\n",
       "        vertical-align: top;\n",
       "    }\n",
       "\n",
       "    .dataframe thead th {\n",
       "        text-align: right;\n",
       "    }\n",
       "</style>\n",
       "<table border=\"1\" class=\"dataframe\">\n",
       "  <thead>\n",
       "    <tr style=\"text-align: right;\">\n",
       "      <th></th>\n",
       "      <th>holiday</th>\n",
       "      <th>temp</th>\n",
       "      <th>rain_1h</th>\n",
       "      <th>snow_1h</th>\n",
       "      <th>clouds_all</th>\n",
       "      <th>weather_main</th>\n",
       "      <th>weather_description</th>\n",
       "      <th>date_time</th>\n",
       "      <th>traffic_volume</th>\n",
       "    </tr>\n",
       "  </thead>\n",
       "  <tbody>\n",
       "    <tr>\n",
       "      <th>0</th>\n",
       "      <td>True</td>\n",
       "      <td>True</td>\n",
       "      <td>True</td>\n",
       "      <td>True</td>\n",
       "      <td>True</td>\n",
       "      <td>True</td>\n",
       "      <td>True</td>\n",
       "      <td>True</td>\n",
       "      <td>True</td>\n",
       "    </tr>\n",
       "    <tr>\n",
       "      <th>1</th>\n",
       "      <td>True</td>\n",
       "      <td>True</td>\n",
       "      <td>True</td>\n",
       "      <td>True</td>\n",
       "      <td>True</td>\n",
       "      <td>True</td>\n",
       "      <td>True</td>\n",
       "      <td>True</td>\n",
       "      <td>True</td>\n",
       "    </tr>\n",
       "    <tr>\n",
       "      <th>2</th>\n",
       "      <td>True</td>\n",
       "      <td>True</td>\n",
       "      <td>True</td>\n",
       "      <td>True</td>\n",
       "      <td>True</td>\n",
       "      <td>True</td>\n",
       "      <td>True</td>\n",
       "      <td>True</td>\n",
       "      <td>True</td>\n",
       "    </tr>\n",
       "    <tr>\n",
       "      <th>3</th>\n",
       "      <td>True</td>\n",
       "      <td>True</td>\n",
       "      <td>True</td>\n",
       "      <td>True</td>\n",
       "      <td>True</td>\n",
       "      <td>True</td>\n",
       "      <td>True</td>\n",
       "      <td>True</td>\n",
       "      <td>True</td>\n",
       "    </tr>\n",
       "    <tr>\n",
       "      <th>4</th>\n",
       "      <td>True</td>\n",
       "      <td>True</td>\n",
       "      <td>True</td>\n",
       "      <td>True</td>\n",
       "      <td>True</td>\n",
       "      <td>True</td>\n",
       "      <td>True</td>\n",
       "      <td>True</td>\n",
       "      <td>True</td>\n",
       "    </tr>\n",
       "    <tr>\n",
       "      <th>...</th>\n",
       "      <td>...</td>\n",
       "      <td>...</td>\n",
       "      <td>...</td>\n",
       "      <td>...</td>\n",
       "      <td>...</td>\n",
       "      <td>...</td>\n",
       "      <td>...</td>\n",
       "      <td>...</td>\n",
       "      <td>...</td>\n",
       "    </tr>\n",
       "    <tr>\n",
       "      <th>48199</th>\n",
       "      <td>True</td>\n",
       "      <td>True</td>\n",
       "      <td>True</td>\n",
       "      <td>True</td>\n",
       "      <td>True</td>\n",
       "      <td>True</td>\n",
       "      <td>True</td>\n",
       "      <td>True</td>\n",
       "      <td>True</td>\n",
       "    </tr>\n",
       "    <tr>\n",
       "      <th>48200</th>\n",
       "      <td>True</td>\n",
       "      <td>True</td>\n",
       "      <td>True</td>\n",
       "      <td>True</td>\n",
       "      <td>True</td>\n",
       "      <td>True</td>\n",
       "      <td>True</td>\n",
       "      <td>True</td>\n",
       "      <td>True</td>\n",
       "    </tr>\n",
       "    <tr>\n",
       "      <th>48201</th>\n",
       "      <td>True</td>\n",
       "      <td>True</td>\n",
       "      <td>True</td>\n",
       "      <td>True</td>\n",
       "      <td>True</td>\n",
       "      <td>True</td>\n",
       "      <td>True</td>\n",
       "      <td>True</td>\n",
       "      <td>True</td>\n",
       "    </tr>\n",
       "    <tr>\n",
       "      <th>48202</th>\n",
       "      <td>True</td>\n",
       "      <td>True</td>\n",
       "      <td>True</td>\n",
       "      <td>True</td>\n",
       "      <td>True</td>\n",
       "      <td>True</td>\n",
       "      <td>True</td>\n",
       "      <td>True</td>\n",
       "      <td>True</td>\n",
       "    </tr>\n",
       "    <tr>\n",
       "      <th>48203</th>\n",
       "      <td>True</td>\n",
       "      <td>True</td>\n",
       "      <td>True</td>\n",
       "      <td>True</td>\n",
       "      <td>True</td>\n",
       "      <td>True</td>\n",
       "      <td>True</td>\n",
       "      <td>True</td>\n",
       "      <td>True</td>\n",
       "    </tr>\n",
       "  </tbody>\n",
       "</table>\n",
       "<p>48204 rows × 9 columns</p>\n",
       "</div>"
      ],
      "text/plain": [
       "       holiday  temp  rain_1h  snow_1h  clouds_all  weather_main  \\\n",
       "0         True  True     True     True        True          True   \n",
       "1         True  True     True     True        True          True   \n",
       "2         True  True     True     True        True          True   \n",
       "3         True  True     True     True        True          True   \n",
       "4         True  True     True     True        True          True   \n",
       "...        ...   ...      ...      ...         ...           ...   \n",
       "48199     True  True     True     True        True          True   \n",
       "48200     True  True     True     True        True          True   \n",
       "48201     True  True     True     True        True          True   \n",
       "48202     True  True     True     True        True          True   \n",
       "48203     True  True     True     True        True          True   \n",
       "\n",
       "       weather_description  date_time  traffic_volume  \n",
       "0                     True       True            True  \n",
       "1                     True       True            True  \n",
       "2                     True       True            True  \n",
       "3                     True       True            True  \n",
       "4                     True       True            True  \n",
       "...                    ...        ...             ...  \n",
       "48199                 True       True            True  \n",
       "48200                 True       True            True  \n",
       "48201                 True       True            True  \n",
       "48202                 True       True            True  \n",
       "48203                 True       True            True  \n",
       "\n",
       "[48204 rows x 9 columns]"
      ]
     },
     "execution_count": 13,
     "metadata": {},
     "output_type": "execute_result"
    }
   ],
   "source": [
    "i_94.notnull()"
   ]
  },
  {
   "cell_type": "code",
   "execution_count": 14,
   "id": "4d6bf652",
   "metadata": {},
   "outputs": [
    {
     "data": {
      "text/plain": [
       "0        True\n",
       "1        True\n",
       "2        True\n",
       "3        True\n",
       "4        True\n",
       "         ... \n",
       "48199    True\n",
       "48200    True\n",
       "48201    True\n",
       "48202    True\n",
       "48203    True\n",
       "Name: holiday, Length: 48204, dtype: bool"
      ]
     },
     "execution_count": 14,
     "metadata": {},
     "output_type": "execute_result"
    }
   ],
   "source": [
    "i_94[\"holiday\"].notnull()"
   ]
  },
  {
   "cell_type": "markdown",
   "id": "f0ef9cdc",
   "metadata": {},
   "source": [
    "**If there was any NaN data, then we had to change it into \"None\"**(string). Here we don't have any missing data.\n",
    "\n",
    "NaN = Not a Number, but technically it is a missing data. Python equivalent of NaN is None(datatype)."
   ]
  },
  {
   "cell_type": "code",
   "execution_count": 15,
   "id": "0054d596",
   "metadata": {},
   "outputs": [],
   "source": [
    "# bol = i_94[\"holiday\"].notnull()\n",
    "# bol"
   ]
  },
  {
   "cell_type": "code",
   "execution_count": 16,
   "id": "7c124ae9",
   "metadata": {},
   "outputs": [],
   "source": [
    "# i_94[bol]"
   ]
  },
  {
   "cell_type": "code",
   "execution_count": 17,
   "id": "be0143f7",
   "metadata": {},
   "outputs": [],
   "source": [
    "name = None"
   ]
  },
  {
   "cell_type": "code",
   "execution_count": 18,
   "id": "ad27307d",
   "metadata": {},
   "outputs": [],
   "source": [
    "name"
   ]
  },
  {
   "cell_type": "code",
   "execution_count": 19,
   "id": "a4a1379a",
   "metadata": {},
   "outputs": [
    {
     "data": {
      "text/plain": [
       "NoneType"
      ]
     },
     "execution_count": 19,
     "metadata": {},
     "output_type": "execute_result"
    }
   ],
   "source": [
    "type(name)"
   ]
  },
  {
   "cell_type": "code",
   "execution_count": 20,
   "id": "6504d98b",
   "metadata": {},
   "outputs": [],
   "source": [
    "# bol1_null = i_94[\"holiday\"].isnull()\n",
    "# bol1_null"
   ]
  },
  {
   "cell_type": "code",
   "execution_count": 21,
   "id": "34518abe",
   "metadata": {},
   "outputs": [],
   "source": [
    "# i_94[\"holiday\"][bol1_null]"
   ]
  },
  {
   "cell_type": "code",
   "execution_count": 22,
   "id": "48067eb2",
   "metadata": {},
   "outputs": [],
   "source": [
    "# i_94[\"holiday\"][bol1_null] = \"None\""
   ]
  },
  {
   "cell_type": "code",
   "execution_count": 23,
   "id": "811b4874",
   "metadata": {},
   "outputs": [],
   "source": [
    "# i_94[\"holiday\"].fillna(\"None\")"
   ]
  },
  {
   "cell_type": "code",
   "execution_count": 24,
   "id": "7c04378c",
   "metadata": {},
   "outputs": [
    {
     "data": {
      "text/html": [
       "<div>\n",
       "<style scoped>\n",
       "    .dataframe tbody tr th:only-of-type {\n",
       "        vertical-align: middle;\n",
       "    }\n",
       "\n",
       "    .dataframe tbody tr th {\n",
       "        vertical-align: top;\n",
       "    }\n",
       "\n",
       "    .dataframe thead th {\n",
       "        text-align: right;\n",
       "    }\n",
       "</style>\n",
       "<table border=\"1\" class=\"dataframe\">\n",
       "  <thead>\n",
       "    <tr style=\"text-align: right;\">\n",
       "      <th></th>\n",
       "      <th>holiday</th>\n",
       "      <th>temp</th>\n",
       "      <th>rain_1h</th>\n",
       "      <th>snow_1h</th>\n",
       "      <th>clouds_all</th>\n",
       "      <th>weather_main</th>\n",
       "      <th>weather_description</th>\n",
       "      <th>date_time</th>\n",
       "      <th>traffic_volume</th>\n",
       "    </tr>\n",
       "  </thead>\n",
       "  <tbody>\n",
       "    <tr>\n",
       "      <th>0</th>\n",
       "      <td>None</td>\n",
       "      <td>288.28</td>\n",
       "      <td>0.0</td>\n",
       "      <td>0.0</td>\n",
       "      <td>40</td>\n",
       "      <td>Clouds</td>\n",
       "      <td>scattered clouds</td>\n",
       "      <td>2012-10-02 09:00:00</td>\n",
       "      <td>5545</td>\n",
       "    </tr>\n",
       "    <tr>\n",
       "      <th>1</th>\n",
       "      <td>None</td>\n",
       "      <td>289.36</td>\n",
       "      <td>0.0</td>\n",
       "      <td>0.0</td>\n",
       "      <td>75</td>\n",
       "      <td>Clouds</td>\n",
       "      <td>broken clouds</td>\n",
       "      <td>2012-10-02 10:00:00</td>\n",
       "      <td>4516</td>\n",
       "    </tr>\n",
       "    <tr>\n",
       "      <th>2</th>\n",
       "      <td>None</td>\n",
       "      <td>289.58</td>\n",
       "      <td>0.0</td>\n",
       "      <td>0.0</td>\n",
       "      <td>90</td>\n",
       "      <td>Clouds</td>\n",
       "      <td>overcast clouds</td>\n",
       "      <td>2012-10-02 11:00:00</td>\n",
       "      <td>4767</td>\n",
       "    </tr>\n",
       "    <tr>\n",
       "      <th>3</th>\n",
       "      <td>None</td>\n",
       "      <td>290.13</td>\n",
       "      <td>0.0</td>\n",
       "      <td>0.0</td>\n",
       "      <td>90</td>\n",
       "      <td>Clouds</td>\n",
       "      <td>overcast clouds</td>\n",
       "      <td>2012-10-02 12:00:00</td>\n",
       "      <td>5026</td>\n",
       "    </tr>\n",
       "    <tr>\n",
       "      <th>4</th>\n",
       "      <td>None</td>\n",
       "      <td>291.14</td>\n",
       "      <td>0.0</td>\n",
       "      <td>0.0</td>\n",
       "      <td>75</td>\n",
       "      <td>Clouds</td>\n",
       "      <td>broken clouds</td>\n",
       "      <td>2012-10-02 13:00:00</td>\n",
       "      <td>4918</td>\n",
       "    </tr>\n",
       "  </tbody>\n",
       "</table>\n",
       "</div>"
      ],
      "text/plain": [
       "  holiday    temp  rain_1h  snow_1h  clouds_all weather_main  \\\n",
       "0    None  288.28      0.0      0.0          40       Clouds   \n",
       "1    None  289.36      0.0      0.0          75       Clouds   \n",
       "2    None  289.58      0.0      0.0          90       Clouds   \n",
       "3    None  290.13      0.0      0.0          90       Clouds   \n",
       "4    None  291.14      0.0      0.0          75       Clouds   \n",
       "\n",
       "  weather_description            date_time  traffic_volume  \n",
       "0    scattered clouds  2012-10-02 09:00:00            5545  \n",
       "1       broken clouds  2012-10-02 10:00:00            4516  \n",
       "2     overcast clouds  2012-10-02 11:00:00            4767  \n",
       "3     overcast clouds  2012-10-02 12:00:00            5026  \n",
       "4       broken clouds  2012-10-02 13:00:00            4918  "
      ]
     },
     "execution_count": 24,
     "metadata": {},
     "output_type": "execute_result"
    }
   ],
   "source": [
    " i_94.head()"
   ]
  },
  {
   "cell_type": "code",
   "execution_count": 25,
   "id": "9a636e8f",
   "metadata": {},
   "outputs": [
    {
     "data": {
      "text/html": [
       "<div>\n",
       "<style scoped>\n",
       "    .dataframe tbody tr th:only-of-type {\n",
       "        vertical-align: middle;\n",
       "    }\n",
       "\n",
       "    .dataframe tbody tr th {\n",
       "        vertical-align: top;\n",
       "    }\n",
       "\n",
       "    .dataframe thead th {\n",
       "        text-align: right;\n",
       "    }\n",
       "</style>\n",
       "<table border=\"1\" class=\"dataframe\">\n",
       "  <thead>\n",
       "    <tr style=\"text-align: right;\">\n",
       "      <th></th>\n",
       "      <th>holiday</th>\n",
       "      <th>temp</th>\n",
       "      <th>rain_1h</th>\n",
       "      <th>snow_1h</th>\n",
       "      <th>clouds_all</th>\n",
       "      <th>weather_main</th>\n",
       "      <th>weather_description</th>\n",
       "      <th>date_time</th>\n",
       "      <th>traffic_volume</th>\n",
       "    </tr>\n",
       "  </thead>\n",
       "  <tbody>\n",
       "    <tr>\n",
       "      <th>48199</th>\n",
       "      <td>None</td>\n",
       "      <td>283.45</td>\n",
       "      <td>0.0</td>\n",
       "      <td>0.0</td>\n",
       "      <td>75</td>\n",
       "      <td>Clouds</td>\n",
       "      <td>broken clouds</td>\n",
       "      <td>2018-09-30 19:00:00</td>\n",
       "      <td>3543</td>\n",
       "    </tr>\n",
       "    <tr>\n",
       "      <th>48200</th>\n",
       "      <td>None</td>\n",
       "      <td>282.76</td>\n",
       "      <td>0.0</td>\n",
       "      <td>0.0</td>\n",
       "      <td>90</td>\n",
       "      <td>Clouds</td>\n",
       "      <td>overcast clouds</td>\n",
       "      <td>2018-09-30 20:00:00</td>\n",
       "      <td>2781</td>\n",
       "    </tr>\n",
       "    <tr>\n",
       "      <th>48201</th>\n",
       "      <td>None</td>\n",
       "      <td>282.73</td>\n",
       "      <td>0.0</td>\n",
       "      <td>0.0</td>\n",
       "      <td>90</td>\n",
       "      <td>Thunderstorm</td>\n",
       "      <td>proximity thunderstorm</td>\n",
       "      <td>2018-09-30 21:00:00</td>\n",
       "      <td>2159</td>\n",
       "    </tr>\n",
       "    <tr>\n",
       "      <th>48202</th>\n",
       "      <td>None</td>\n",
       "      <td>282.09</td>\n",
       "      <td>0.0</td>\n",
       "      <td>0.0</td>\n",
       "      <td>90</td>\n",
       "      <td>Clouds</td>\n",
       "      <td>overcast clouds</td>\n",
       "      <td>2018-09-30 22:00:00</td>\n",
       "      <td>1450</td>\n",
       "    </tr>\n",
       "    <tr>\n",
       "      <th>48203</th>\n",
       "      <td>None</td>\n",
       "      <td>282.12</td>\n",
       "      <td>0.0</td>\n",
       "      <td>0.0</td>\n",
       "      <td>90</td>\n",
       "      <td>Clouds</td>\n",
       "      <td>overcast clouds</td>\n",
       "      <td>2018-09-30 23:00:00</td>\n",
       "      <td>954</td>\n",
       "    </tr>\n",
       "  </tbody>\n",
       "</table>\n",
       "</div>"
      ],
      "text/plain": [
       "      holiday    temp  rain_1h  snow_1h  clouds_all  weather_main  \\\n",
       "48199    None  283.45      0.0      0.0          75        Clouds   \n",
       "48200    None  282.76      0.0      0.0          90        Clouds   \n",
       "48201    None  282.73      0.0      0.0          90  Thunderstorm   \n",
       "48202    None  282.09      0.0      0.0          90        Clouds   \n",
       "48203    None  282.12      0.0      0.0          90        Clouds   \n",
       "\n",
       "          weather_description            date_time  traffic_volume  \n",
       "48199           broken clouds  2018-09-30 19:00:00            3543  \n",
       "48200         overcast clouds  2018-09-30 20:00:00            2781  \n",
       "48201  proximity thunderstorm  2018-09-30 21:00:00            2159  \n",
       "48202         overcast clouds  2018-09-30 22:00:00            1450  \n",
       "48203         overcast clouds  2018-09-30 23:00:00             954  "
      ]
     },
     "execution_count": 25,
     "metadata": {},
     "output_type": "execute_result"
    }
   ],
   "source": [
    "i_94.tail()"
   ]
  },
  {
   "cell_type": "code",
   "execution_count": 26,
   "id": "ef7978a1",
   "metadata": {},
   "outputs": [
    {
     "data": {
      "text/plain": [
       "0        5545\n",
       "1        4516\n",
       "2        4767\n",
       "3        5026\n",
       "4        4918\n",
       "         ... \n",
       "48199    3543\n",
       "48200    2781\n",
       "48201    2159\n",
       "48202    1450\n",
       "48203     954\n",
       "Name: traffic_volume, Length: 48204, dtype: int64"
      ]
     },
     "execution_count": 26,
     "metadata": {},
     "output_type": "execute_result"
    }
   ],
   "source": [
    "i_94.traffic_volume"
   ]
  },
  {
   "cell_type": "code",
   "execution_count": 27,
   "id": "f84041a9",
   "metadata": {},
   "outputs": [],
   "source": [
    "import matplotlib.pyplot as plt"
   ]
  },
  {
   "cell_type": "code",
   "execution_count": 28,
   "id": "997fd230",
   "metadata": {},
   "outputs": [
    {
     "data": {
      "image/png": "[encoded data removed]",
      "text/plain": [
       "<Figure size 640x480 with 1 Axes>"
      ]
     },
     "metadata": {},
     "output_type": "display_data"
    }
   ],
   "source": [
    "i_94.traffic_volume.plot.hist()\n",
    "plt.show()"
   ]
  },
  {
   "cell_type": "code",
   "execution_count": 29,
   "id": "84f1cd3c",
   "metadata": {},
   "outputs": [
    {
     "data": {
      "text/plain": [
       "count    48204.000000\n",
       "mean      3259.818355\n",
       "std       1986.860670\n",
       "min          0.000000\n",
       "25%       1193.000000\n",
       "50%       3380.000000\n",
       "75%       4933.000000\n",
       "max       7280.000000\n",
       "Name: traffic_volume, dtype: float64"
      ]
     },
     "execution_count": 29,
     "metadata": {},
     "output_type": "execute_result"
    }
   ],
   "source": [
    "i_94.traffic_volume.describe()"
   ]
  },
  {
   "cell_type": "markdown",
   "id": "597e0d37",
   "metadata": {},
   "source": [
    "* Day: 7AM to 7PM (12 hours)\n",
    "* Night: 7PM to 7AM (12 hours)"
   ]
  },
  {
   "cell_type": "code",
   "execution_count": 30,
   "id": "acaaef03",
   "metadata": {},
   "outputs": [],
   "source": [
    "i_94.date_time = pd.to_datetime(i_94.date_time)"
   ]
  },
  {
   "cell_type": "code",
   "execution_count": 31,
   "id": "ab50ccb9",
   "metadata": {},
   "outputs": [
    {
     "data": {
      "text/plain": [
       "dtype('<M8[ns]')"
      ]
     },
     "execution_count": 31,
     "metadata": {},
     "output_type": "execute_result"
    }
   ],
   "source": [
    "i_94.date_time.dtype"
   ]
  },
  {
   "cell_type": "code",
   "execution_count": 32,
   "id": "0d3e6a9f",
   "metadata": {},
   "outputs": [
    {
     "name": "stdout",
     "output_type": "stream",
     "text": [
      "<class 'pandas.core.frame.DataFrame'>\n",
      "RangeIndex: 48204 entries, 0 to 48203\n",
      "Data columns (total 9 columns):\n",
      " #   Column               Non-Null Count  Dtype         \n",
      "---  ------               --------------  -----         \n",
      " 0   holiday              48204 non-null  object        \n",
      " 1   temp                 48204 non-null  float64       \n",
      " 2   rain_1h              48204 non-null  float64       \n",
      " 3   snow_1h              48204 non-null  float64       \n",
      " 4   clouds_all           48204 non-null  int64         \n",
      " 5   weather_main         48204 non-null  object        \n",
      " 6   weather_description  48204 non-null  object        \n",
      " 7   date_time            48204 non-null  datetime64[ns]\n",
      " 8   traffic_volume       48204 non-null  int64         \n",
      "dtypes: datetime64[ns](1), float64(3), int64(2), object(3)\n",
      "memory usage: 3.3+ MB\n"
     ]
    }
   ],
   "source": [
    "i_94.info()"
   ]
  },
  {
   "cell_type": "code",
   "execution_count": 33,
   "id": "cf546d75",
   "metadata": {},
   "outputs": [
    {
     "data": {
      "text/plain": [
       "0        09:00:00\n",
       "1        10:00:00\n",
       "2        11:00:00\n",
       "3        12:00:00\n",
       "4        13:00:00\n",
       "           ...   \n",
       "48199    19:00:00\n",
       "48200    20:00:00\n",
       "48201    21:00:00\n",
       "48202    22:00:00\n",
       "48203    23:00:00\n",
       "Name: date_time, Length: 48204, dtype: object"
      ]
     },
     "execution_count": 33,
     "metadata": {},
     "output_type": "execute_result"
    }
   ],
   "source": [
    "i_94.date_time.dt.time"
   ]
  },
  {
   "cell_type": "code",
   "execution_count": 34,
   "id": "d9ad6847",
   "metadata": {},
   "outputs": [
    {
     "data": {
      "text/plain": [
       "0         9\n",
       "1        10\n",
       "2        11\n",
       "3        12\n",
       "4        13\n",
       "         ..\n",
       "48199    19\n",
       "48200    20\n",
       "48201    21\n",
       "48202    22\n",
       "48203    23\n",
       "Name: date_time, Length: 48204, dtype: int64"
      ]
     },
     "execution_count": 34,
     "metadata": {},
     "output_type": "execute_result"
    }
   ],
   "source": [
    "i_94.date_time.dt.hour"
   ]
  },
  {
   "cell_type": "code",
   "execution_count": 35,
   "id": "7ac4fabc",
   "metadata": {},
   "outputs": [
    {
     "data": {
      "text/plain": [
       "array([ 9, 10, 11, 12, 13, 14, 15, 16, 17, 18, 19, 20, 21, 22, 23,  0,  1,\n",
       "        2,  3,  4,  5,  6,  8,  7], dtype=int64)"
      ]
     },
     "execution_count": 35,
     "metadata": {},
     "output_type": "execute_result"
    }
   ],
   "source": [
    "i_94.date_time.dt.hour.unique()"
   ]
  },
  {
   "cell_type": "code",
   "execution_count": 36,
   "id": "7409f3e6",
   "metadata": {},
   "outputs": [
    {
     "data": {
      "text/plain": [
       "0         True\n",
       "1         True\n",
       "2         True\n",
       "3         True\n",
       "4         True\n",
       "         ...  \n",
       "48199    False\n",
       "48200    False\n",
       "48201    False\n",
       "48202    False\n",
       "48203    False\n",
       "Name: date_time, Length: 48204, dtype: bool"
      ]
     },
     "execution_count": 36,
     "metadata": {},
     "output_type": "execute_result"
    }
   ],
   "source": [
    "(i_94.date_time.dt.hour >= 7) & (i_94.date_time.dt.hour < 19)"
   ]
  },
  {
   "cell_type": "code",
   "execution_count": 37,
   "id": "b931d095",
   "metadata": {},
   "outputs": [],
   "source": [
    "day_bol = (i_94.date_time.dt.hour >= 7) & (i_94.date_time.dt.hour < 19)"
   ]
  },
  {
   "cell_type": "code",
   "execution_count": 38,
   "id": "0aaf9928",
   "metadata": {},
   "outputs": [
    {
     "data": {
      "text/html": [
       "<div>\n",
       "<style scoped>\n",
       "    .dataframe tbody tr th:only-of-type {\n",
       "        vertical-align: middle;\n",
       "    }\n",
       "\n",
       "    .dataframe tbody tr th {\n",
       "        vertical-align: top;\n",
       "    }\n",
       "\n",
       "    .dataframe thead th {\n",
       "        text-align: right;\n",
       "    }\n",
       "</style>\n",
       "<table border=\"1\" class=\"dataframe\">\n",
       "  <thead>\n",
       "    <tr style=\"text-align: right;\">\n",
       "      <th></th>\n",
       "      <th>holiday</th>\n",
       "      <th>temp</th>\n",
       "      <th>rain_1h</th>\n",
       "      <th>snow_1h</th>\n",
       "      <th>clouds_all</th>\n",
       "      <th>weather_main</th>\n",
       "      <th>weather_description</th>\n",
       "      <th>date_time</th>\n",
       "      <th>traffic_volume</th>\n",
       "    </tr>\n",
       "  </thead>\n",
       "  <tbody>\n",
       "    <tr>\n",
       "      <th>0</th>\n",
       "      <td>None</td>\n",
       "      <td>288.28</td>\n",
       "      <td>0.00</td>\n",
       "      <td>0.0</td>\n",
       "      <td>40</td>\n",
       "      <td>Clouds</td>\n",
       "      <td>scattered clouds</td>\n",
       "      <td>2012-10-02 09:00:00</td>\n",
       "      <td>5545</td>\n",
       "    </tr>\n",
       "    <tr>\n",
       "      <th>1</th>\n",
       "      <td>None</td>\n",
       "      <td>289.36</td>\n",
       "      <td>0.00</td>\n",
       "      <td>0.0</td>\n",
       "      <td>75</td>\n",
       "      <td>Clouds</td>\n",
       "      <td>broken clouds</td>\n",
       "      <td>2012-10-02 10:00:00</td>\n",
       "      <td>4516</td>\n",
       "    </tr>\n",
       "    <tr>\n",
       "      <th>2</th>\n",
       "      <td>None</td>\n",
       "      <td>289.58</td>\n",
       "      <td>0.00</td>\n",
       "      <td>0.0</td>\n",
       "      <td>90</td>\n",
       "      <td>Clouds</td>\n",
       "      <td>overcast clouds</td>\n",
       "      <td>2012-10-02 11:00:00</td>\n",
       "      <td>4767</td>\n",
       "    </tr>\n",
       "    <tr>\n",
       "      <th>3</th>\n",
       "      <td>None</td>\n",
       "      <td>290.13</td>\n",
       "      <td>0.00</td>\n",
       "      <td>0.0</td>\n",
       "      <td>90</td>\n",
       "      <td>Clouds</td>\n",
       "      <td>overcast clouds</td>\n",
       "      <td>2012-10-02 12:00:00</td>\n",
       "      <td>5026</td>\n",
       "    </tr>\n",
       "    <tr>\n",
       "      <th>4</th>\n",
       "      <td>None</td>\n",
       "      <td>291.14</td>\n",
       "      <td>0.00</td>\n",
       "      <td>0.0</td>\n",
       "      <td>75</td>\n",
       "      <td>Clouds</td>\n",
       "      <td>broken clouds</td>\n",
       "      <td>2012-10-02 13:00:00</td>\n",
       "      <td>4918</td>\n",
       "    </tr>\n",
       "    <tr>\n",
       "      <th>...</th>\n",
       "      <td>...</td>\n",
       "      <td>...</td>\n",
       "      <td>...</td>\n",
       "      <td>...</td>\n",
       "      <td>...</td>\n",
       "      <td>...</td>\n",
       "      <td>...</td>\n",
       "      <td>...</td>\n",
       "      <td>...</td>\n",
       "    </tr>\n",
       "    <tr>\n",
       "      <th>48194</th>\n",
       "      <td>None</td>\n",
       "      <td>283.84</td>\n",
       "      <td>0.00</td>\n",
       "      <td>0.0</td>\n",
       "      <td>75</td>\n",
       "      <td>Rain</td>\n",
       "      <td>proximity shower rain</td>\n",
       "      <td>2018-09-30 15:00:00</td>\n",
       "      <td>4302</td>\n",
       "    </tr>\n",
       "    <tr>\n",
       "      <th>48195</th>\n",
       "      <td>None</td>\n",
       "      <td>283.84</td>\n",
       "      <td>0.00</td>\n",
       "      <td>0.0</td>\n",
       "      <td>75</td>\n",
       "      <td>Drizzle</td>\n",
       "      <td>light intensity drizzle</td>\n",
       "      <td>2018-09-30 15:00:00</td>\n",
       "      <td>4302</td>\n",
       "    </tr>\n",
       "    <tr>\n",
       "      <th>48196</th>\n",
       "      <td>None</td>\n",
       "      <td>284.38</td>\n",
       "      <td>0.00</td>\n",
       "      <td>0.0</td>\n",
       "      <td>75</td>\n",
       "      <td>Rain</td>\n",
       "      <td>light rain</td>\n",
       "      <td>2018-09-30 16:00:00</td>\n",
       "      <td>4283</td>\n",
       "    </tr>\n",
       "    <tr>\n",
       "      <th>48197</th>\n",
       "      <td>None</td>\n",
       "      <td>284.79</td>\n",
       "      <td>0.00</td>\n",
       "      <td>0.0</td>\n",
       "      <td>75</td>\n",
       "      <td>Clouds</td>\n",
       "      <td>broken clouds</td>\n",
       "      <td>2018-09-30 17:00:00</td>\n",
       "      <td>4132</td>\n",
       "    </tr>\n",
       "    <tr>\n",
       "      <th>48198</th>\n",
       "      <td>None</td>\n",
       "      <td>284.20</td>\n",
       "      <td>0.25</td>\n",
       "      <td>0.0</td>\n",
       "      <td>75</td>\n",
       "      <td>Rain</td>\n",
       "      <td>light rain</td>\n",
       "      <td>2018-09-30 18:00:00</td>\n",
       "      <td>3947</td>\n",
       "    </tr>\n",
       "  </tbody>\n",
       "</table>\n",
       "<p>23877 rows × 9 columns</p>\n",
       "</div>"
      ],
      "text/plain": [
       "      holiday    temp  rain_1h  snow_1h  clouds_all weather_main  \\\n",
       "0        None  288.28     0.00      0.0          40       Clouds   \n",
       "1        None  289.36     0.00      0.0          75       Clouds   \n",
       "2        None  289.58     0.00      0.0          90       Clouds   \n",
       "3        None  290.13     0.00      0.0          90       Clouds   \n",
       "4        None  291.14     0.00      0.0          75       Clouds   \n",
       "...       ...     ...      ...      ...         ...          ...   \n",
       "48194    None  283.84     0.00      0.0          75         Rain   \n",
       "48195    None  283.84     0.00      0.0          75      Drizzle   \n",
       "48196    None  284.38     0.00      0.0          75         Rain   \n",
       "48197    None  284.79     0.00      0.0          75       Clouds   \n",
       "48198    None  284.20     0.25      0.0          75         Rain   \n",
       "\n",
       "           weather_description           date_time  traffic_volume  \n",
       "0             scattered clouds 2012-10-02 09:00:00            5545  \n",
       "1                broken clouds 2012-10-02 10:00:00            4516  \n",
       "2              overcast clouds 2012-10-02 11:00:00            4767  \n",
       "3              overcast clouds 2012-10-02 12:00:00            5026  \n",
       "4                broken clouds 2012-10-02 13:00:00            4918  \n",
       "...                        ...                 ...             ...  \n",
       "48194    proximity shower rain 2018-09-30 15:00:00            4302  \n",
       "48195  light intensity drizzle 2018-09-30 15:00:00            4302  \n",
       "48196               light rain 2018-09-30 16:00:00            4283  \n",
       "48197            broken clouds 2018-09-30 17:00:00            4132  \n",
       "48198               light rain 2018-09-30 18:00:00            3947  \n",
       "\n",
       "[23877 rows x 9 columns]"
      ]
     },
     "execution_count": 38,
     "metadata": {},
     "output_type": "execute_result"
    }
   ],
   "source": [
    "day = i_94[day_bol]\n",
    "day"
   ]
  },
  {
   "cell_type": "code",
   "execution_count": 39,
   "id": "2a36027c",
   "metadata": {},
   "outputs": [
    {
     "data": {
      "text/plain": [
       "Timestamp('2012-10-02 09:00:00')"
      ]
     },
     "execution_count": 39,
     "metadata": {},
     "output_type": "execute_result"
    }
   ],
   "source": [
    "day.date_time.min()"
   ]
  },
  {
   "cell_type": "code",
   "execution_count": 40,
   "id": "0ca06721",
   "metadata": {},
   "outputs": [
    {
     "data": {
      "text/plain": [
       "Timestamp('2018-09-30 18:00:00')"
      ]
     },
     "execution_count": 40,
     "metadata": {},
     "output_type": "execute_result"
    }
   ],
   "source": [
    "day.date_time.max()"
   ]
  },
  {
   "cell_type": "code",
   "execution_count": 41,
   "id": "c0c61613",
   "metadata": {},
   "outputs": [
    {
     "data": {
      "text/plain": [
       "0        09:00:00\n",
       "1        10:00:00\n",
       "2        11:00:00\n",
       "3        12:00:00\n",
       "4        13:00:00\n",
       "           ...   \n",
       "48194    15:00:00\n",
       "48195    15:00:00\n",
       "48196    16:00:00\n",
       "48197    17:00:00\n",
       "48198    18:00:00\n",
       "Name: date_time, Length: 23877, dtype: object"
      ]
     },
     "execution_count": 41,
     "metadata": {},
     "output_type": "execute_result"
    }
   ],
   "source": [
    "day.date_time.dt.time"
   ]
  },
  {
   "cell_type": "code",
   "execution_count": 42,
   "id": "69d35ecf",
   "metadata": {},
   "outputs": [
    {
     "data": {
      "text/plain": [
       "datetime.time(7, 0)"
      ]
     },
     "execution_count": 42,
     "metadata": {},
     "output_type": "execute_result"
    }
   ],
   "source": [
    "day.date_time.dt.time.min()"
   ]
  },
  {
   "cell_type": "code",
   "execution_count": 43,
   "id": "634a1443",
   "metadata": {},
   "outputs": [
    {
     "data": {
      "text/plain": [
       "datetime.time(18, 0)"
      ]
     },
     "execution_count": 43,
     "metadata": {},
     "output_type": "execute_result"
    }
   ],
   "source": [
    "day.date_time.dt.time.max()"
   ]
  },
  {
   "cell_type": "code",
   "execution_count": 44,
   "id": "1588c6e8",
   "metadata": {},
   "outputs": [
    {
     "data": {
      "text/html": [
       "<div>\n",
       "<style scoped>\n",
       "    .dataframe tbody tr th:only-of-type {\n",
       "        vertical-align: middle;\n",
       "    }\n",
       "\n",
       "    .dataframe tbody tr th {\n",
       "        vertical-align: top;\n",
       "    }\n",
       "\n",
       "    .dataframe thead th {\n",
       "        text-align: right;\n",
       "    }\n",
       "</style>\n",
       "<table border=\"1\" class=\"dataframe\">\n",
       "  <thead>\n",
       "    <tr style=\"text-align: right;\">\n",
       "      <th></th>\n",
       "      <th>holiday</th>\n",
       "      <th>temp</th>\n",
       "      <th>rain_1h</th>\n",
       "      <th>snow_1h</th>\n",
       "      <th>clouds_all</th>\n",
       "      <th>weather_main</th>\n",
       "      <th>weather_description</th>\n",
       "      <th>date_time</th>\n",
       "      <th>traffic_volume</th>\n",
       "    </tr>\n",
       "  </thead>\n",
       "  <tbody>\n",
       "    <tr>\n",
       "      <th>10</th>\n",
       "      <td>None</td>\n",
       "      <td>290.97</td>\n",
       "      <td>0.0</td>\n",
       "      <td>0.0</td>\n",
       "      <td>20</td>\n",
       "      <td>Clouds</td>\n",
       "      <td>few clouds</td>\n",
       "      <td>2012-10-02 19:00:00</td>\n",
       "      <td>3539</td>\n",
       "    </tr>\n",
       "    <tr>\n",
       "      <th>11</th>\n",
       "      <td>None</td>\n",
       "      <td>289.38</td>\n",
       "      <td>0.0</td>\n",
       "      <td>0.0</td>\n",
       "      <td>1</td>\n",
       "      <td>Clear</td>\n",
       "      <td>sky is clear</td>\n",
       "      <td>2012-10-02 20:00:00</td>\n",
       "      <td>2784</td>\n",
       "    </tr>\n",
       "    <tr>\n",
       "      <th>12</th>\n",
       "      <td>None</td>\n",
       "      <td>288.61</td>\n",
       "      <td>0.0</td>\n",
       "      <td>0.0</td>\n",
       "      <td>1</td>\n",
       "      <td>Clear</td>\n",
       "      <td>sky is clear</td>\n",
       "      <td>2012-10-02 21:00:00</td>\n",
       "      <td>2361</td>\n",
       "    </tr>\n",
       "    <tr>\n",
       "      <th>13</th>\n",
       "      <td>None</td>\n",
       "      <td>287.16</td>\n",
       "      <td>0.0</td>\n",
       "      <td>0.0</td>\n",
       "      <td>1</td>\n",
       "      <td>Clear</td>\n",
       "      <td>sky is clear</td>\n",
       "      <td>2012-10-02 22:00:00</td>\n",
       "      <td>1529</td>\n",
       "    </tr>\n",
       "    <tr>\n",
       "      <th>14</th>\n",
       "      <td>None</td>\n",
       "      <td>285.45</td>\n",
       "      <td>0.0</td>\n",
       "      <td>0.0</td>\n",
       "      <td>1</td>\n",
       "      <td>Clear</td>\n",
       "      <td>sky is clear</td>\n",
       "      <td>2012-10-02 23:00:00</td>\n",
       "      <td>963</td>\n",
       "    </tr>\n",
       "    <tr>\n",
       "      <th>...</th>\n",
       "      <td>...</td>\n",
       "      <td>...</td>\n",
       "      <td>...</td>\n",
       "      <td>...</td>\n",
       "      <td>...</td>\n",
       "      <td>...</td>\n",
       "      <td>...</td>\n",
       "      <td>...</td>\n",
       "      <td>...</td>\n",
       "    </tr>\n",
       "    <tr>\n",
       "      <th>48199</th>\n",
       "      <td>None</td>\n",
       "      <td>283.45</td>\n",
       "      <td>0.0</td>\n",
       "      <td>0.0</td>\n",
       "      <td>75</td>\n",
       "      <td>Clouds</td>\n",
       "      <td>broken clouds</td>\n",
       "      <td>2018-09-30 19:00:00</td>\n",
       "      <td>3543</td>\n",
       "    </tr>\n",
       "    <tr>\n",
       "      <th>48200</th>\n",
       "      <td>None</td>\n",
       "      <td>282.76</td>\n",
       "      <td>0.0</td>\n",
       "      <td>0.0</td>\n",
       "      <td>90</td>\n",
       "      <td>Clouds</td>\n",
       "      <td>overcast clouds</td>\n",
       "      <td>2018-09-30 20:00:00</td>\n",
       "      <td>2781</td>\n",
       "    </tr>\n",
       "    <tr>\n",
       "      <th>48201</th>\n",
       "      <td>None</td>\n",
       "      <td>282.73</td>\n",
       "      <td>0.0</td>\n",
       "      <td>0.0</td>\n",
       "      <td>90</td>\n",
       "      <td>Thunderstorm</td>\n",
       "      <td>proximity thunderstorm</td>\n",
       "      <td>2018-09-30 21:00:00</td>\n",
       "      <td>2159</td>\n",
       "    </tr>\n",
       "    <tr>\n",
       "      <th>48202</th>\n",
       "      <td>None</td>\n",
       "      <td>282.09</td>\n",
       "      <td>0.0</td>\n",
       "      <td>0.0</td>\n",
       "      <td>90</td>\n",
       "      <td>Clouds</td>\n",
       "      <td>overcast clouds</td>\n",
       "      <td>2018-09-30 22:00:00</td>\n",
       "      <td>1450</td>\n",
       "    </tr>\n",
       "    <tr>\n",
       "      <th>48203</th>\n",
       "      <td>None</td>\n",
       "      <td>282.12</td>\n",
       "      <td>0.0</td>\n",
       "      <td>0.0</td>\n",
       "      <td>90</td>\n",
       "      <td>Clouds</td>\n",
       "      <td>overcast clouds</td>\n",
       "      <td>2018-09-30 23:00:00</td>\n",
       "      <td>954</td>\n",
       "    </tr>\n",
       "  </tbody>\n",
       "</table>\n",
       "<p>24327 rows × 9 columns</p>\n",
       "</div>"
      ],
      "text/plain": [
       "      holiday    temp  rain_1h  snow_1h  clouds_all  weather_main  \\\n",
       "10       None  290.97      0.0      0.0          20        Clouds   \n",
       "11       None  289.38      0.0      0.0           1         Clear   \n",
       "12       None  288.61      0.0      0.0           1         Clear   \n",
       "13       None  287.16      0.0      0.0           1         Clear   \n",
       "14       None  285.45      0.0      0.0           1         Clear   \n",
       "...       ...     ...      ...      ...         ...           ...   \n",
       "48199    None  283.45      0.0      0.0          75        Clouds   \n",
       "48200    None  282.76      0.0      0.0          90        Clouds   \n",
       "48201    None  282.73      0.0      0.0          90  Thunderstorm   \n",
       "48202    None  282.09      0.0      0.0          90        Clouds   \n",
       "48203    None  282.12      0.0      0.0          90        Clouds   \n",
       "\n",
       "          weather_description           date_time  traffic_volume  \n",
       "10                 few clouds 2012-10-02 19:00:00            3539  \n",
       "11               sky is clear 2012-10-02 20:00:00            2784  \n",
       "12               sky is clear 2012-10-02 21:00:00            2361  \n",
       "13               sky is clear 2012-10-02 22:00:00            1529  \n",
       "14               sky is clear 2012-10-02 23:00:00             963  \n",
       "...                       ...                 ...             ...  \n",
       "48199           broken clouds 2018-09-30 19:00:00            3543  \n",
       "48200         overcast clouds 2018-09-30 20:00:00            2781  \n",
       "48201  proximity thunderstorm 2018-09-30 21:00:00            2159  \n",
       "48202         overcast clouds 2018-09-30 22:00:00            1450  \n",
       "48203         overcast clouds 2018-09-30 23:00:00             954  \n",
       "\n",
       "[24327 rows x 9 columns]"
      ]
     },
     "execution_count": 44,
     "metadata": {},
     "output_type": "execute_result"
    }
   ],
   "source": [
    "night_bol = (i_94.date_time.dt.hour >= 19) | (i_94.date_time.dt.hour < 7)   # | = \"or\",  ~ = \"not\" in pandas\n",
    "\n",
    "night = i_94[night_bol]\n",
    "night"
   ]
  },
  {
   "cell_type": "code",
   "execution_count": 45,
   "id": "9861b66a",
   "metadata": {},
   "outputs": [
    {
     "data": {
      "text/plain": [
       "datetime.time(23, 0)"
      ]
     },
     "execution_count": 45,
     "metadata": {},
     "output_type": "execute_result"
    }
   ],
   "source": [
    "night.date_time.dt.time.max()"
   ]
  },
  {
   "cell_type": "code",
   "execution_count": 46,
   "id": "5f385c63",
   "metadata": {},
   "outputs": [
    {
     "data": {
      "text/plain": [
       "datetime.time(0, 0)"
      ]
     },
     "execution_count": 46,
     "metadata": {},
     "output_type": "execute_result"
    }
   ],
   "source": [
    "night.date_time.dt.time.min()"
   ]
  },
  {
   "cell_type": "code",
   "execution_count": 47,
   "id": "4f957377",
   "metadata": {},
   "outputs": [
    {
     "data": {
      "text/plain": [
       "array([19, 20, 21, 22, 23,  0,  1,  2,  3,  4,  5,  6], dtype=int64)"
      ]
     },
     "execution_count": 47,
     "metadata": {},
     "output_type": "execute_result"
    }
   ],
   "source": [
    "night.date_time.dt.hour.unique()"
   ]
  },
  {
   "cell_type": "code",
   "execution_count": 48,
   "id": "6ba359f2",
   "metadata": {},
   "outputs": [
    {
     "data": {
      "text/plain": [
       "array([ 9, 10, 11, 12, 13, 14, 15, 16, 17, 18,  8,  7], dtype=int64)"
      ]
     },
     "execution_count": 48,
     "metadata": {},
     "output_type": "execute_result"
    }
   ],
   "source": [
    "day.date_time.dt.hour.unique()"
   ]
  },
  {
   "cell_type": "code",
   "execution_count": 49,
   "id": "4a1033e6",
   "metadata": {},
   "outputs": [
    {
     "data": {
      "image/png": "[encoded data removed]",
      "text/plain": [
       "<Figure size 640x480 with 2 Axes>"
      ]
     },
     "metadata": {},
     "output_type": "display_data"
    }
   ],
   "source": [
    "plt.subplot(1,2,1)\n",
    "plt.hist(day[\"traffic_volume\"])\n",
    "plt.title(\"Traffic Volume (Day)\")\n",
    "\n",
    "plt.subplot(1,2,2)\n",
    "plt.hist(night[\"traffic_volume\"])\n",
    "plt.title(\"Traffic Volume (Night)\")\n",
    "\n",
    "plt.show()"
   ]
  },
  {
   "cell_type": "code",
   "execution_count": 52,
   "id": "3fca01ee",
   "metadata": {},
   "outputs": [
    {
     "data": {
      "image/png": "[encoded data removed]",
      "text/plain": [
       "<Figure size 1100x400 with 2 Axes>"
      ]
     },
     "metadata": {},
     "output_type": "display_data"
    }
   ],
   "source": [
    "plt.figure(figsize = (11, 4))\n",
    "\n",
    "plt.subplot(1,2,1)\n",
    "plt.hist(day[\"traffic_volume\"])\n",
    "plt.title(\"Traffic Volume (Day)\")\n",
    "\n",
    "plt.subplot(1,2,2)\n",
    "plt.hist(night[\"traffic_volume\"])\n",
    "plt.title(\"Traffic Volume (Night)\")\n",
    "\n",
    "plt.show()"
   ]
  },
  {
   "cell_type": "code",
   "execution_count": 53,
   "id": "90ef85ab",
   "metadata": {},
   "outputs": [
    {
     "data": {
      "image/png": "[encoded data removed]",
      "text/plain": [
       "<Figure size 1100x400 with 2 Axes>"
      ]
     },
     "metadata": {},
     "output_type": "display_data"
    }
   ],
   "source": [
    "plt.figure(figsize = (11, 4))\n",
    "\n",
    "plt.subplot(1,2,1)\n",
    "plt.hist(day[\"traffic_volume\"])\n",
    "plt.title(\"Traffic Volume (Day)\")\n",
    "plt.xlim(0, 8000)\n",
    "plt.ylim(0, 8000)\n",
    "\n",
    "plt.subplot(1,2,2)\n",
    "plt.hist(night[\"traffic_volume\"])\n",
    "plt.title(\"Traffic Volume (Night)\")\n",
    "plt.xlim(0, 8000)\n",
    "plt.ylim(0, 8000)\n",
    "\n",
    "plt.show()"
   ]
  },
  {
   "cell_type": "code",
   "execution_count": 56,
   "id": "871841a5",
   "metadata": {},
   "outputs": [
    {
     "data": {
      "text/plain": [
       "count    23877.000000\n",
       "mean      4762.047452\n",
       "std       1174.546482\n",
       "min          0.000000\n",
       "25%       4252.000000\n",
       "50%       4820.000000\n",
       "75%       5559.000000\n",
       "max       7280.000000\n",
       "Name: traffic_volume, dtype: float64"
      ]
     },
     "execution_count": 56,
     "metadata": {},
     "output_type": "execute_result"
    }
   ],
   "source": [
    "day_description = day.traffic_volume.describe()\n",
    "day_description"
   ]
  },
  {
   "cell_type": "code",
   "execution_count": 58,
   "id": "adf59345",
   "metadata": {},
   "outputs": [
    {
     "data": {
      "text/plain": [
       "count    24327.000000\n",
       "mean      1785.377441\n",
       "std       1441.951197\n",
       "min          0.000000\n",
       "25%        530.000000\n",
       "50%       1287.000000\n",
       "75%       2819.000000\n",
       "max       6386.000000\n",
       "Name: traffic_volume, dtype: float64"
      ]
     },
     "execution_count": 58,
     "metadata": {},
     "output_type": "execute_result"
    }
   ],
   "source": [
    "night_description = night.traffic_volume.describe()\n",
    "night_description"
   ]
  },
  {
   "cell_type": "code",
   "execution_count": 60,
   "id": "85398b86",
   "metadata": {},
   "outputs": [
    {
     "data": {
      "text/html": [
       "<div>\n",
       "<style scoped>\n",
       "    .dataframe tbody tr th:only-of-type {\n",
       "        vertical-align: middle;\n",
       "    }\n",
       "\n",
       "    .dataframe tbody tr th {\n",
       "        vertical-align: top;\n",
       "    }\n",
       "\n",
       "    .dataframe thead th {\n",
       "        text-align: right;\n",
       "    }\n",
       "</style>\n",
       "<table border=\"1\" class=\"dataframe\">\n",
       "  <thead>\n",
       "    <tr style=\"text-align: right;\">\n",
       "      <th></th>\n",
       "      <th>traffic_volume</th>\n",
       "    </tr>\n",
       "  </thead>\n",
       "  <tbody>\n",
       "    <tr>\n",
       "      <th>count</th>\n",
       "      <td>23877.000000</td>\n",
       "    </tr>\n",
       "    <tr>\n",
       "      <th>mean</th>\n",
       "      <td>4762.047452</td>\n",
       "    </tr>\n",
       "    <tr>\n",
       "      <th>std</th>\n",
       "      <td>1174.546482</td>\n",
       "    </tr>\n",
       "    <tr>\n",
       "      <th>min</th>\n",
       "      <td>0.000000</td>\n",
       "    </tr>\n",
       "    <tr>\n",
       "      <th>25%</th>\n",
       "      <td>4252.000000</td>\n",
       "    </tr>\n",
       "    <tr>\n",
       "      <th>50%</th>\n",
       "      <td>4820.000000</td>\n",
       "    </tr>\n",
       "    <tr>\n",
       "      <th>75%</th>\n",
       "      <td>5559.000000</td>\n",
       "    </tr>\n",
       "    <tr>\n",
       "      <th>max</th>\n",
       "      <td>7280.000000</td>\n",
       "    </tr>\n",
       "  </tbody>\n",
       "</table>\n",
       "</div>"
      ],
      "text/plain": [
       "       traffic_volume\n",
       "count    23877.000000\n",
       "mean      4762.047452\n",
       "std       1174.546482\n",
       "min          0.000000\n",
       "25%       4252.000000\n",
       "50%       4820.000000\n",
       "75%       5559.000000\n",
       "max       7280.000000"
      ]
     },
     "execution_count": 60,
     "metadata": {},
     "output_type": "execute_result"
    }
   ],
   "source": [
    "day_night_des = pd.DataFrame(day_description)\n",
    "day_night_des"
   ]
  },
  {
   "cell_type": "code",
   "execution_count": 61,
   "id": "e1783666",
   "metadata": {},
   "outputs": [
    {
     "data": {
      "text/plain": [
       "Index(['traffic_volume'], dtype='object')"
      ]
     },
     "execution_count": 61,
     "metadata": {},
     "output_type": "execute_result"
    }
   ],
   "source": [
    "day_night_des.columns"
   ]
  },
  {
   "cell_type": "code",
   "execution_count": 62,
   "id": "bc8c8eb0",
   "metadata": {},
   "outputs": [],
   "source": [
    "day_night_des.columns = [\"Day\"]"
   ]
  },
  {
   "cell_type": "code",
   "execution_count": 63,
   "id": "b61ec313",
   "metadata": {},
   "outputs": [
    {
     "data": {
      "text/html": [
       "<div>\n",
       "<style scoped>\n",
       "    .dataframe tbody tr th:only-of-type {\n",
       "        vertical-align: middle;\n",
       "    }\n",
       "\n",
       "    .dataframe tbody tr th {\n",
       "        vertical-align: top;\n",
       "    }\n",
       "\n",
       "    .dataframe thead th {\n",
       "        text-align: right;\n",
       "    }\n",
       "</style>\n",
       "<table border=\"1\" class=\"dataframe\">\n",
       "  <thead>\n",
       "    <tr style=\"text-align: right;\">\n",
       "      <th></th>\n",
       "      <th>Day</th>\n",
       "    </tr>\n",
       "  </thead>\n",
       "  <tbody>\n",
       "    <tr>\n",
       "      <th>count</th>\n",
       "      <td>23877.000000</td>\n",
       "    </tr>\n",
       "    <tr>\n",
       "      <th>mean</th>\n",
       "      <td>4762.047452</td>\n",
       "    </tr>\n",
       "    <tr>\n",
       "      <th>std</th>\n",
       "      <td>1174.546482</td>\n",
       "    </tr>\n",
       "    <tr>\n",
       "      <th>min</th>\n",
       "      <td>0.000000</td>\n",
       "    </tr>\n",
       "    <tr>\n",
       "      <th>25%</th>\n",
       "      <td>4252.000000</td>\n",
       "    </tr>\n",
       "    <tr>\n",
       "      <th>50%</th>\n",
       "      <td>4820.000000</td>\n",
       "    </tr>\n",
       "    <tr>\n",
       "      <th>75%</th>\n",
       "      <td>5559.000000</td>\n",
       "    </tr>\n",
       "    <tr>\n",
       "      <th>max</th>\n",
       "      <td>7280.000000</td>\n",
       "    </tr>\n",
       "  </tbody>\n",
       "</table>\n",
       "</div>"
      ],
      "text/plain": [
       "                Day\n",
       "count  23877.000000\n",
       "mean    4762.047452\n",
       "std     1174.546482\n",
       "min        0.000000\n",
       "25%     4252.000000\n",
       "50%     4820.000000\n",
       "75%     5559.000000\n",
       "max     7280.000000"
      ]
     },
     "execution_count": 63,
     "metadata": {},
     "output_type": "execute_result"
    }
   ],
   "source": [
    "day_night_des"
   ]
  },
  {
   "cell_type": "code",
   "execution_count": 64,
   "id": "cc5f9517",
   "metadata": {},
   "outputs": [],
   "source": [
    "day_night_des[\"Night\"] = night_description"
   ]
  },
  {
   "cell_type": "code",
   "execution_count": 70,
   "id": "899ddd0a",
   "metadata": {},
   "outputs": [
    {
     "data": {
      "image/png": "[encoded data removed]",
      "text/plain": [
       "<Figure size 1100x400 with 2 Axes>"
      ]
     },
     "metadata": {},
     "output_type": "display_data"
    }
   ],
   "source": [
    "plt.figure(figsize = (11, 4))\n",
    "\n",
    "plt.subplot(1,2,1)\n",
    "plt.hist(day[\"traffic_volume\"])\n",
    "plt.title(\"Traffic Volume (Day)\")\n",
    "plt.xlim(0, 8000)\n",
    "plt.ylim(0, 8000)\n",
    "plt.xlabel(\"Traffic Volume\")\n",
    "plt.ylabel(\"No. Of Incidents\")\n",
    "\n",
    "plt.subplot(1,2,2)\n",
    "plt.hist(night[\"traffic_volume\"])\n",
    "plt.title(\"Traffic Volume (Night)\")\n",
    "plt.xlim(0, 8000)\n",
    "plt.ylim(0, 8000)\n",
    "plt.xlabel(\"Traffic Volume\")\n",
    "\n",
    "plt.show()"
   ]
  },
  {
   "cell_type": "code",
   "execution_count": 65,
   "id": "be86c283",
   "metadata": {},
   "outputs": [
    {
     "data": {
      "text/html": [
       "<div>\n",
       "<style scoped>\n",
       "    .dataframe tbody tr th:only-of-type {\n",
       "        vertical-align: middle;\n",
       "    }\n",
       "\n",
       "    .dataframe tbody tr th {\n",
       "        vertical-align: top;\n",
       "    }\n",
       "\n",
       "    .dataframe thead th {\n",
       "        text-align: right;\n",
       "    }\n",
       "</style>\n",
       "<table border=\"1\" class=\"dataframe\">\n",
       "  <thead>\n",
       "    <tr style=\"text-align: right;\">\n",
       "      <th></th>\n",
       "      <th>Day</th>\n",
       "      <th>Night</th>\n",
       "    </tr>\n",
       "  </thead>\n",
       "  <tbody>\n",
       "    <tr>\n",
       "      <th>count</th>\n",
       "      <td>23877.000000</td>\n",
       "      <td>24327.000000</td>\n",
       "    </tr>\n",
       "    <tr>\n",
       "      <th>mean</th>\n",
       "      <td>4762.047452</td>\n",
       "      <td>1785.377441</td>\n",
       "    </tr>\n",
       "    <tr>\n",
       "      <th>std</th>\n",
       "      <td>1174.546482</td>\n",
       "      <td>1441.951197</td>\n",
       "    </tr>\n",
       "    <tr>\n",
       "      <th>min</th>\n",
       "      <td>0.000000</td>\n",
       "      <td>0.000000</td>\n",
       "    </tr>\n",
       "    <tr>\n",
       "      <th>25%</th>\n",
       "      <td>4252.000000</td>\n",
       "      <td>530.000000</td>\n",
       "    </tr>\n",
       "    <tr>\n",
       "      <th>50%</th>\n",
       "      <td>4820.000000</td>\n",
       "      <td>1287.000000</td>\n",
       "    </tr>\n",
       "    <tr>\n",
       "      <th>75%</th>\n",
       "      <td>5559.000000</td>\n",
       "      <td>2819.000000</td>\n",
       "    </tr>\n",
       "    <tr>\n",
       "      <th>max</th>\n",
       "      <td>7280.000000</td>\n",
       "      <td>6386.000000</td>\n",
       "    </tr>\n",
       "  </tbody>\n",
       "</table>\n",
       "</div>"
      ],
      "text/plain": [
       "                Day         Night\n",
       "count  23877.000000  24327.000000\n",
       "mean    4762.047452   1785.377441\n",
       "std     1174.546482   1441.951197\n",
       "min        0.000000      0.000000\n",
       "25%     4252.000000    530.000000\n",
       "50%     4820.000000   1287.000000\n",
       "75%     5559.000000   2819.000000\n",
       "max     7280.000000   6386.000000"
      ]
     },
     "execution_count": 65,
     "metadata": {},
     "output_type": "execute_result"
    }
   ],
   "source": [
    "day_night_des"
   ]
  },
  {
   "cell_type": "code",
   "execution_count": 68,
   "id": "423c22d7",
   "metadata": {},
   "outputs": [
    {
     "data": {
      "text/plain": [
       "(-6.3870000000000005, 638.6]    7153\n",
       "(638.6, 1277.2]                 4983\n",
       "(1277.2, 1915.8]                1950\n",
       "(1915.8, 2554.4]                2350\n",
       "(2554.4, 3193.0]                4359\n",
       "(3193.0, 3831.6]                1872\n",
       "(3831.6, 4470.2]                 256\n",
       "(4470.2, 5108.8]                 150\n",
       "(5108.8, 5747.4]                 821\n",
       "(5747.4, 6386.0]                 433\n",
       "Name: traffic_volume, dtype: int64"
      ]
     },
     "execution_count": 68,
     "metadata": {},
     "output_type": "execute_result"
    }
   ],
   "source": [
    "night.traffic_volume.value_counts(bins = 10).sort_index()"
   ]
  },
  {
   "cell_type": "markdown",
   "id": "5e630e84",
   "metadata": {},
   "source": [
    "# Time Indicators\n",
    "\n",
    "* Month\n",
    "* Day of Week\n",
    "* Time of Day"
   ]
  },
  {
   "cell_type": "code",
   "execution_count": 72,
   "id": "73f37fe2",
   "metadata": {},
   "outputs": [
    {
     "data": {
      "text/html": [
       "<div>\n",
       "<style scoped>\n",
       "    .dataframe tbody tr th:only-of-type {\n",
       "        vertical-align: middle;\n",
       "    }\n",
       "\n",
       "    .dataframe tbody tr th {\n",
       "        vertical-align: top;\n",
       "    }\n",
       "\n",
       "    .dataframe thead th {\n",
       "        text-align: right;\n",
       "    }\n",
       "</style>\n",
       "<table border=\"1\" class=\"dataframe\">\n",
       "  <thead>\n",
       "    <tr style=\"text-align: right;\">\n",
       "      <th></th>\n",
       "      <th>holiday</th>\n",
       "      <th>temp</th>\n",
       "      <th>rain_1h</th>\n",
       "      <th>snow_1h</th>\n",
       "      <th>clouds_all</th>\n",
       "      <th>weather_main</th>\n",
       "      <th>weather_description</th>\n",
       "      <th>date_time</th>\n",
       "      <th>traffic_volume</th>\n",
       "    </tr>\n",
       "  </thead>\n",
       "  <tbody>\n",
       "    <tr>\n",
       "      <th>0</th>\n",
       "      <td>None</td>\n",
       "      <td>288.28</td>\n",
       "      <td>0.00</td>\n",
       "      <td>0.0</td>\n",
       "      <td>40</td>\n",
       "      <td>Clouds</td>\n",
       "      <td>scattered clouds</td>\n",
       "      <td>2012-10-02 09:00:00</td>\n",
       "      <td>5545</td>\n",
       "    </tr>\n",
       "    <tr>\n",
       "      <th>1</th>\n",
       "      <td>None</td>\n",
       "      <td>289.36</td>\n",
       "      <td>0.00</td>\n",
       "      <td>0.0</td>\n",
       "      <td>75</td>\n",
       "      <td>Clouds</td>\n",
       "      <td>broken clouds</td>\n",
       "      <td>2012-10-02 10:00:00</td>\n",
       "      <td>4516</td>\n",
       "    </tr>\n",
       "    <tr>\n",
       "      <th>2</th>\n",
       "      <td>None</td>\n",
       "      <td>289.58</td>\n",
       "      <td>0.00</td>\n",
       "      <td>0.0</td>\n",
       "      <td>90</td>\n",
       "      <td>Clouds</td>\n",
       "      <td>overcast clouds</td>\n",
       "      <td>2012-10-02 11:00:00</td>\n",
       "      <td>4767</td>\n",
       "    </tr>\n",
       "    <tr>\n",
       "      <th>3</th>\n",
       "      <td>None</td>\n",
       "      <td>290.13</td>\n",
       "      <td>0.00</td>\n",
       "      <td>0.0</td>\n",
       "      <td>90</td>\n",
       "      <td>Clouds</td>\n",
       "      <td>overcast clouds</td>\n",
       "      <td>2012-10-02 12:00:00</td>\n",
       "      <td>5026</td>\n",
       "    </tr>\n",
       "    <tr>\n",
       "      <th>4</th>\n",
       "      <td>None</td>\n",
       "      <td>291.14</td>\n",
       "      <td>0.00</td>\n",
       "      <td>0.0</td>\n",
       "      <td>75</td>\n",
       "      <td>Clouds</td>\n",
       "      <td>broken clouds</td>\n",
       "      <td>2012-10-02 13:00:00</td>\n",
       "      <td>4918</td>\n",
       "    </tr>\n",
       "    <tr>\n",
       "      <th>...</th>\n",
       "      <td>...</td>\n",
       "      <td>...</td>\n",
       "      <td>...</td>\n",
       "      <td>...</td>\n",
       "      <td>...</td>\n",
       "      <td>...</td>\n",
       "      <td>...</td>\n",
       "      <td>...</td>\n",
       "      <td>...</td>\n",
       "    </tr>\n",
       "    <tr>\n",
       "      <th>48194</th>\n",
       "      <td>None</td>\n",
       "      <td>283.84</td>\n",
       "      <td>0.00</td>\n",
       "      <td>0.0</td>\n",
       "      <td>75</td>\n",
       "      <td>Rain</td>\n",
       "      <td>proximity shower rain</td>\n",
       "      <td>2018-09-30 15:00:00</td>\n",
       "      <td>4302</td>\n",
       "    </tr>\n",
       "    <tr>\n",
       "      <th>48195</th>\n",
       "      <td>None</td>\n",
       "      <td>283.84</td>\n",
       "      <td>0.00</td>\n",
       "      <td>0.0</td>\n",
       "      <td>75</td>\n",
       "      <td>Drizzle</td>\n",
       "      <td>light intensity drizzle</td>\n",
       "      <td>2018-09-30 15:00:00</td>\n",
       "      <td>4302</td>\n",
       "    </tr>\n",
       "    <tr>\n",
       "      <th>48196</th>\n",
       "      <td>None</td>\n",
       "      <td>284.38</td>\n",
       "      <td>0.00</td>\n",
       "      <td>0.0</td>\n",
       "      <td>75</td>\n",
       "      <td>Rain</td>\n",
       "      <td>light rain</td>\n",
       "      <td>2018-09-30 16:00:00</td>\n",
       "      <td>4283</td>\n",
       "    </tr>\n",
       "    <tr>\n",
       "      <th>48197</th>\n",
       "      <td>None</td>\n",
       "      <td>284.79</td>\n",
       "      <td>0.00</td>\n",
       "      <td>0.0</td>\n",
       "      <td>75</td>\n",
       "      <td>Clouds</td>\n",
       "      <td>broken clouds</td>\n",
       "      <td>2018-09-30 17:00:00</td>\n",
       "      <td>4132</td>\n",
       "    </tr>\n",
       "    <tr>\n",
       "      <th>48198</th>\n",
       "      <td>None</td>\n",
       "      <td>284.20</td>\n",
       "      <td>0.25</td>\n",
       "      <td>0.0</td>\n",
       "      <td>75</td>\n",
       "      <td>Rain</td>\n",
       "      <td>light rain</td>\n",
       "      <td>2018-09-30 18:00:00</td>\n",
       "      <td>3947</td>\n",
       "    </tr>\n",
       "  </tbody>\n",
       "</table>\n",
       "<p>23877 rows × 9 columns</p>\n",
       "</div>"
      ],
      "text/plain": [
       "      holiday    temp  rain_1h  snow_1h  clouds_all weather_main  \\\n",
       "0        None  288.28     0.00      0.0          40       Clouds   \n",
       "1        None  289.36     0.00      0.0          75       Clouds   \n",
       "2        None  289.58     0.00      0.0          90       Clouds   \n",
       "3        None  290.13     0.00      0.0          90       Clouds   \n",
       "4        None  291.14     0.00      0.0          75       Clouds   \n",
       "...       ...     ...      ...      ...         ...          ...   \n",
       "48194    None  283.84     0.00      0.0          75         Rain   \n",
       "48195    None  283.84     0.00      0.0          75      Drizzle   \n",
       "48196    None  284.38     0.00      0.0          75         Rain   \n",
       "48197    None  284.79     0.00      0.0          75       Clouds   \n",
       "48198    None  284.20     0.25      0.0          75         Rain   \n",
       "\n",
       "           weather_description           date_time  traffic_volume  \n",
       "0             scattered clouds 2012-10-02 09:00:00            5545  \n",
       "1                broken clouds 2012-10-02 10:00:00            4516  \n",
       "2              overcast clouds 2012-10-02 11:00:00            4767  \n",
       "3              overcast clouds 2012-10-02 12:00:00            5026  \n",
       "4                broken clouds 2012-10-02 13:00:00            4918  \n",
       "...                        ...                 ...             ...  \n",
       "48194    proximity shower rain 2018-09-30 15:00:00            4302  \n",
       "48195  light intensity drizzle 2018-09-30 15:00:00            4302  \n",
       "48196               light rain 2018-09-30 16:00:00            4283  \n",
       "48197            broken clouds 2018-09-30 17:00:00            4132  \n",
       "48198               light rain 2018-09-30 18:00:00            3947  \n",
       "\n",
       "[23877 rows x 9 columns]"
      ]
     },
     "execution_count": 72,
     "metadata": {},
     "output_type": "execute_result"
    }
   ],
   "source": [
    "day"
   ]
  },
  {
   "cell_type": "code",
   "execution_count": 73,
   "id": "0132aa23",
   "metadata": {},
   "outputs": [
    {
     "data": {
      "text/plain": [
       "0        10\n",
       "1        10\n",
       "2        10\n",
       "3        10\n",
       "4        10\n",
       "         ..\n",
       "48194     9\n",
       "48195     9\n",
       "48196     9\n",
       "48197     9\n",
       "48198     9\n",
       "Name: date_time, Length: 23877, dtype: int64"
      ]
     },
     "execution_count": 73,
     "metadata": {},
     "output_type": "execute_result"
    }
   ],
   "source": [
    "day.date_time.dt.month"
   ]
  },
  {
   "cell_type": "code",
   "execution_count": 74,
   "id": "7f7496ad",
   "metadata": {},
   "outputs": [
    {
     "name": "stderr",
     "output_type": "stream",
     "text": [
      "C:\\Users\\hp 840g6\\AppData\\Local\\Temp\\ipykernel_3884\\1119384693.py:1: SettingWithCopyWarning: \n",
      "A value is trying to be set on a copy of a slice from a DataFrame.\n",
      "Try using .loc[row_indexer,col_indexer] = value instead\n",
      "\n",
      "See the caveats in the documentation: https://pandas.pydata.org/pandas-docs/stable/user_guide/indexing.html#returning-a-view-versus-a-copy\n",
      "  day[\"month\"] = day.date_time.dt.month\n"
     ]
    }
   ],
   "source": [
    "day[\"month\"] = day.date_time.dt.month"
   ]
  },
  {
   "cell_type": "code",
   "execution_count": 75,
   "id": "a0266768",
   "metadata": {},
   "outputs": [
    {
     "data": {
      "text/html": [
       "<div>\n",
       "<style scoped>\n",
       "    .dataframe tbody tr th:only-of-type {\n",
       "        vertical-align: middle;\n",
       "    }\n",
       "\n",
       "    .dataframe tbody tr th {\n",
       "        vertical-align: top;\n",
       "    }\n",
       "\n",
       "    .dataframe thead th {\n",
       "        text-align: right;\n",
       "    }\n",
       "</style>\n",
       "<table border=\"1\" class=\"dataframe\">\n",
       "  <thead>\n",
       "    <tr style=\"text-align: right;\">\n",
       "      <th></th>\n",
       "      <th>holiday</th>\n",
       "      <th>temp</th>\n",
       "      <th>rain_1h</th>\n",
       "      <th>snow_1h</th>\n",
       "      <th>clouds_all</th>\n",
       "      <th>weather_main</th>\n",
       "      <th>weather_description</th>\n",
       "      <th>date_time</th>\n",
       "      <th>traffic_volume</th>\n",
       "      <th>month</th>\n",
       "    </tr>\n",
       "  </thead>\n",
       "  <tbody>\n",
       "    <tr>\n",
       "      <th>0</th>\n",
       "      <td>None</td>\n",
       "      <td>288.28</td>\n",
       "      <td>0.00</td>\n",
       "      <td>0.0</td>\n",
       "      <td>40</td>\n",
       "      <td>Clouds</td>\n",
       "      <td>scattered clouds</td>\n",
       "      <td>2012-10-02 09:00:00</td>\n",
       "      <td>5545</td>\n",
       "      <td>10</td>\n",
       "    </tr>\n",
       "    <tr>\n",
       "      <th>1</th>\n",
       "      <td>None</td>\n",
       "      <td>289.36</td>\n",
       "      <td>0.00</td>\n",
       "      <td>0.0</td>\n",
       "      <td>75</td>\n",
       "      <td>Clouds</td>\n",
       "      <td>broken clouds</td>\n",
       "      <td>2012-10-02 10:00:00</td>\n",
       "      <td>4516</td>\n",
       "      <td>10</td>\n",
       "    </tr>\n",
       "    <tr>\n",
       "      <th>2</th>\n",
       "      <td>None</td>\n",
       "      <td>289.58</td>\n",
       "      <td>0.00</td>\n",
       "      <td>0.0</td>\n",
       "      <td>90</td>\n",
       "      <td>Clouds</td>\n",
       "      <td>overcast clouds</td>\n",
       "      <td>2012-10-02 11:00:00</td>\n",
       "      <td>4767</td>\n",
       "      <td>10</td>\n",
       "    </tr>\n",
       "    <tr>\n",
       "      <th>3</th>\n",
       "      <td>None</td>\n",
       "      <td>290.13</td>\n",
       "      <td>0.00</td>\n",
       "      <td>0.0</td>\n",
       "      <td>90</td>\n",
       "      <td>Clouds</td>\n",
       "      <td>overcast clouds</td>\n",
       "      <td>2012-10-02 12:00:00</td>\n",
       "      <td>5026</td>\n",
       "      <td>10</td>\n",
       "    </tr>\n",
       "    <tr>\n",
       "      <th>4</th>\n",
       "      <td>None</td>\n",
       "      <td>291.14</td>\n",
       "      <td>0.00</td>\n",
       "      <td>0.0</td>\n",
       "      <td>75</td>\n",
       "      <td>Clouds</td>\n",
       "      <td>broken clouds</td>\n",
       "      <td>2012-10-02 13:00:00</td>\n",
       "      <td>4918</td>\n",
       "      <td>10</td>\n",
       "    </tr>\n",
       "    <tr>\n",
       "      <th>...</th>\n",
       "      <td>...</td>\n",
       "      <td>...</td>\n",
       "      <td>...</td>\n",
       "      <td>...</td>\n",
       "      <td>...</td>\n",
       "      <td>...</td>\n",
       "      <td>...</td>\n",
       "      <td>...</td>\n",
       "      <td>...</td>\n",
       "      <td>...</td>\n",
       "    </tr>\n",
       "    <tr>\n",
       "      <th>48194</th>\n",
       "      <td>None</td>\n",
       "      <td>283.84</td>\n",
       "      <td>0.00</td>\n",
       "      <td>0.0</td>\n",
       "      <td>75</td>\n",
       "      <td>Rain</td>\n",
       "      <td>proximity shower rain</td>\n",
       "      <td>2018-09-30 15:00:00</td>\n",
       "      <td>4302</td>\n",
       "      <td>9</td>\n",
       "    </tr>\n",
       "    <tr>\n",
       "      <th>48195</th>\n",
       "      <td>None</td>\n",
       "      <td>283.84</td>\n",
       "      <td>0.00</td>\n",
       "      <td>0.0</td>\n",
       "      <td>75</td>\n",
       "      <td>Drizzle</td>\n",
       "      <td>light intensity drizzle</td>\n",
       "      <td>2018-09-30 15:00:00</td>\n",
       "      <td>4302</td>\n",
       "      <td>9</td>\n",
       "    </tr>\n",
       "    <tr>\n",
       "      <th>48196</th>\n",
       "      <td>None</td>\n",
       "      <td>284.38</td>\n",
       "      <td>0.00</td>\n",
       "      <td>0.0</td>\n",
       "      <td>75</td>\n",
       "      <td>Rain</td>\n",
       "      <td>light rain</td>\n",
       "      <td>2018-09-30 16:00:00</td>\n",
       "      <td>4283</td>\n",
       "      <td>9</td>\n",
       "    </tr>\n",
       "    <tr>\n",
       "      <th>48197</th>\n",
       "      <td>None</td>\n",
       "      <td>284.79</td>\n",
       "      <td>0.00</td>\n",
       "      <td>0.0</td>\n",
       "      <td>75</td>\n",
       "      <td>Clouds</td>\n",
       "      <td>broken clouds</td>\n",
       "      <td>2018-09-30 17:00:00</td>\n",
       "      <td>4132</td>\n",
       "      <td>9</td>\n",
       "    </tr>\n",
       "    <tr>\n",
       "      <th>48198</th>\n",
       "      <td>None</td>\n",
       "      <td>284.20</td>\n",
       "      <td>0.25</td>\n",
       "      <td>0.0</td>\n",
       "      <td>75</td>\n",
       "      <td>Rain</td>\n",
       "      <td>light rain</td>\n",
       "      <td>2018-09-30 18:00:00</td>\n",
       "      <td>3947</td>\n",
       "      <td>9</td>\n",
       "    </tr>\n",
       "  </tbody>\n",
       "</table>\n",
       "<p>23877 rows × 10 columns</p>\n",
       "</div>"
      ],
      "text/plain": [
       "      holiday    temp  rain_1h  snow_1h  clouds_all weather_main  \\\n",
       "0        None  288.28     0.00      0.0          40       Clouds   \n",
       "1        None  289.36     0.00      0.0          75       Clouds   \n",
       "2        None  289.58     0.00      0.0          90       Clouds   \n",
       "3        None  290.13     0.00      0.0          90       Clouds   \n",
       "4        None  291.14     0.00      0.0          75       Clouds   \n",
       "...       ...     ...      ...      ...         ...          ...   \n",
       "48194    None  283.84     0.00      0.0          75         Rain   \n",
       "48195    None  283.84     0.00      0.0          75      Drizzle   \n",
       "48196    None  284.38     0.00      0.0          75         Rain   \n",
       "48197    None  284.79     0.00      0.0          75       Clouds   \n",
       "48198    None  284.20     0.25      0.0          75         Rain   \n",
       "\n",
       "           weather_description           date_time  traffic_volume  month  \n",
       "0             scattered clouds 2012-10-02 09:00:00            5545     10  \n",
       "1                broken clouds 2012-10-02 10:00:00            4516     10  \n",
       "2              overcast clouds 2012-10-02 11:00:00            4767     10  \n",
       "3              overcast clouds 2012-10-02 12:00:00            5026     10  \n",
       "4                broken clouds 2012-10-02 13:00:00            4918     10  \n",
       "...                        ...                 ...             ...    ...  \n",
       "48194    proximity shower rain 2018-09-30 15:00:00            4302      9  \n",
       "48195  light intensity drizzle 2018-09-30 15:00:00            4302      9  \n",
       "48196               light rain 2018-09-30 16:00:00            4283      9  \n",
       "48197            broken clouds 2018-09-30 17:00:00            4132      9  \n",
       "48198               light rain 2018-09-30 18:00:00            3947      9  \n",
       "\n",
       "[23877 rows x 10 columns]"
      ]
     },
     "execution_count": 75,
     "metadata": {},
     "output_type": "execute_result"
    }
   ],
   "source": [
    "day"
   ]
  },
  {
   "cell_type": "code",
   "execution_count": 78,
   "id": "97e2c30c",
   "metadata": {},
   "outputs": [
    {
     "data": {
      "text/plain": [
       "0          October\n",
       "1          October\n",
       "2          October\n",
       "3          October\n",
       "4          October\n",
       "           ...    \n",
       "48194    September\n",
       "48195    September\n",
       "48196    September\n",
       "48197    September\n",
       "48198    September\n",
       "Name: date_time, Length: 23877, dtype: object"
      ]
     },
     "execution_count": 78,
     "metadata": {},
     "output_type": "execute_result"
    }
   ],
   "source": [
    " day.date_time.dt.strftime(\"%B\")"
   ]
  },
  {
   "cell_type": "code",
   "execution_count": 83,
   "id": "f7ae939a",
   "metadata": {},
   "outputs": [
    {
     "data": {
      "text/plain": [
       "0        Oct\n",
       "1        Oct\n",
       "2        Oct\n",
       "3        Oct\n",
       "4        Oct\n",
       "        ... \n",
       "48194    Sep\n",
       "48195    Sep\n",
       "48196    Sep\n",
       "48197    Sep\n",
       "48198    Sep\n",
       "Name: date_time, Length: 23877, dtype: object"
      ]
     },
     "execution_count": 83,
     "metadata": {},
     "output_type": "execute_result"
    }
   ],
   "source": [
    " day.date_time.dt.strftime(\"%b\")"
   ]
  },
  {
   "cell_type": "markdown",
   "id": "d4ade1ca",
   "metadata": {},
   "source": [
    "https://docs.python.org/3/library/datetime.html"
   ]
  },
  {
   "cell_type": "code",
   "execution_count": 84,
   "id": "77bfa7a4",
   "metadata": {},
   "outputs": [
    {
     "name": "stderr",
     "output_type": "stream",
     "text": [
      "C:\\Users\\hp 840g6\\AppData\\Local\\Temp\\ipykernel_3884\\2767561128.py:1: SettingWithCopyWarning: \n",
      "A value is trying to be set on a copy of a slice from a DataFrame.\n",
      "Try using .loc[row_indexer,col_indexer] = value instead\n",
      "\n",
      "See the caveats in the documentation: https://pandas.pydata.org/pandas-docs/stable/user_guide/indexing.html#returning-a-view-versus-a-copy\n",
      "  day[\"month_name\"] =  day.date_time.dt.strftime(\"%B\")\n"
     ]
    }
   ],
   "source": [
    "day[\"month_name\"] =  day.date_time.dt.strftime(\"%B\")"
   ]
  },
  {
   "cell_type": "code",
   "execution_count": 85,
   "id": "75c01357",
   "metadata": {},
   "outputs": [
    {
     "data": {
      "text/html": [
       "<div>\n",
       "<style scoped>\n",
       "    .dataframe tbody tr th:only-of-type {\n",
       "        vertical-align: middle;\n",
       "    }\n",
       "\n",
       "    .dataframe tbody tr th {\n",
       "        vertical-align: top;\n",
       "    }\n",
       "\n",
       "    .dataframe thead th {\n",
       "        text-align: right;\n",
       "    }\n",
       "</style>\n",
       "<table border=\"1\" class=\"dataframe\">\n",
       "  <thead>\n",
       "    <tr style=\"text-align: right;\">\n",
       "      <th></th>\n",
       "      <th>holiday</th>\n",
       "      <th>temp</th>\n",
       "      <th>rain_1h</th>\n",
       "      <th>snow_1h</th>\n",
       "      <th>clouds_all</th>\n",
       "      <th>weather_main</th>\n",
       "      <th>weather_description</th>\n",
       "      <th>date_time</th>\n",
       "      <th>traffic_volume</th>\n",
       "      <th>month</th>\n",
       "      <th>month_name</th>\n",
       "    </tr>\n",
       "  </thead>\n",
       "  <tbody>\n",
       "    <tr>\n",
       "      <th>0</th>\n",
       "      <td>None</td>\n",
       "      <td>288.28</td>\n",
       "      <td>0.00</td>\n",
       "      <td>0.0</td>\n",
       "      <td>40</td>\n",
       "      <td>Clouds</td>\n",
       "      <td>scattered clouds</td>\n",
       "      <td>2012-10-02 09:00:00</td>\n",
       "      <td>5545</td>\n",
       "      <td>10</td>\n",
       "      <td>October</td>\n",
       "    </tr>\n",
       "    <tr>\n",
       "      <th>1</th>\n",
       "      <td>None</td>\n",
       "      <td>289.36</td>\n",
       "      <td>0.00</td>\n",
       "      <td>0.0</td>\n",
       "      <td>75</td>\n",
       "      <td>Clouds</td>\n",
       "      <td>broken clouds</td>\n",
       "      <td>2012-10-02 10:00:00</td>\n",
       "      <td>4516</td>\n",
       "      <td>10</td>\n",
       "      <td>October</td>\n",
       "    </tr>\n",
       "    <tr>\n",
       "      <th>2</th>\n",
       "      <td>None</td>\n",
       "      <td>289.58</td>\n",
       "      <td>0.00</td>\n",
       "      <td>0.0</td>\n",
       "      <td>90</td>\n",
       "      <td>Clouds</td>\n",
       "      <td>overcast clouds</td>\n",
       "      <td>2012-10-02 11:00:00</td>\n",
       "      <td>4767</td>\n",
       "      <td>10</td>\n",
       "      <td>October</td>\n",
       "    </tr>\n",
       "    <tr>\n",
       "      <th>3</th>\n",
       "      <td>None</td>\n",
       "      <td>290.13</td>\n",
       "      <td>0.00</td>\n",
       "      <td>0.0</td>\n",
       "      <td>90</td>\n",
       "      <td>Clouds</td>\n",
       "      <td>overcast clouds</td>\n",
       "      <td>2012-10-02 12:00:00</td>\n",
       "      <td>5026</td>\n",
       "      <td>10</td>\n",
       "      <td>October</td>\n",
       "    </tr>\n",
       "    <tr>\n",
       "      <th>4</th>\n",
       "      <td>None</td>\n",
       "      <td>291.14</td>\n",
       "      <td>0.00</td>\n",
       "      <td>0.0</td>\n",
       "      <td>75</td>\n",
       "      <td>Clouds</td>\n",
       "      <td>broken clouds</td>\n",
       "      <td>2012-10-02 13:00:00</td>\n",
       "      <td>4918</td>\n",
       "      <td>10</td>\n",
       "      <td>October</td>\n",
       "    </tr>\n",
       "    <tr>\n",
       "      <th>...</th>\n",
       "      <td>...</td>\n",
       "      <td>...</td>\n",
       "      <td>...</td>\n",
       "      <td>...</td>\n",
       "      <td>...</td>\n",
       "      <td>...</td>\n",
       "      <td>...</td>\n",
       "      <td>...</td>\n",
       "      <td>...</td>\n",
       "      <td>...</td>\n",
       "      <td>...</td>\n",
       "    </tr>\n",
       "    <tr>\n",
       "      <th>48194</th>\n",
       "      <td>None</td>\n",
       "      <td>283.84</td>\n",
       "      <td>0.00</td>\n",
       "      <td>0.0</td>\n",
       "      <td>75</td>\n",
       "      <td>Rain</td>\n",
       "      <td>proximity shower rain</td>\n",
       "      <td>2018-09-30 15:00:00</td>\n",
       "      <td>4302</td>\n",
       "      <td>9</td>\n",
       "      <td>September</td>\n",
       "    </tr>\n",
       "    <tr>\n",
       "      <th>48195</th>\n",
       "      <td>None</td>\n",
       "      <td>283.84</td>\n",
       "      <td>0.00</td>\n",
       "      <td>0.0</td>\n",
       "      <td>75</td>\n",
       "      <td>Drizzle</td>\n",
       "      <td>light intensity drizzle</td>\n",
       "      <td>2018-09-30 15:00:00</td>\n",
       "      <td>4302</td>\n",
       "      <td>9</td>\n",
       "      <td>September</td>\n",
       "    </tr>\n",
       "    <tr>\n",
       "      <th>48196</th>\n",
       "      <td>None</td>\n",
       "      <td>284.38</td>\n",
       "      <td>0.00</td>\n",
       "      <td>0.0</td>\n",
       "      <td>75</td>\n",
       "      <td>Rain</td>\n",
       "      <td>light rain</td>\n",
       "      <td>2018-09-30 16:00:00</td>\n",
       "      <td>4283</td>\n",
       "      <td>9</td>\n",
       "      <td>September</td>\n",
       "    </tr>\n",
       "    <tr>\n",
       "      <th>48197</th>\n",
       "      <td>None</td>\n",
       "      <td>284.79</td>\n",
       "      <td>0.00</td>\n",
       "      <td>0.0</td>\n",
       "      <td>75</td>\n",
       "      <td>Clouds</td>\n",
       "      <td>broken clouds</td>\n",
       "      <td>2018-09-30 17:00:00</td>\n",
       "      <td>4132</td>\n",
       "      <td>9</td>\n",
       "      <td>September</td>\n",
       "    </tr>\n",
       "    <tr>\n",
       "      <th>48198</th>\n",
       "      <td>None</td>\n",
       "      <td>284.20</td>\n",
       "      <td>0.25</td>\n",
       "      <td>0.0</td>\n",
       "      <td>75</td>\n",
       "      <td>Rain</td>\n",
       "      <td>light rain</td>\n",
       "      <td>2018-09-30 18:00:00</td>\n",
       "      <td>3947</td>\n",
       "      <td>9</td>\n",
       "      <td>September</td>\n",
       "    </tr>\n",
       "  </tbody>\n",
       "</table>\n",
       "<p>23877 rows × 11 columns</p>\n",
       "</div>"
      ],
      "text/plain": [
       "      holiday    temp  rain_1h  snow_1h  clouds_all weather_main  \\\n",
       "0        None  288.28     0.00      0.0          40       Clouds   \n",
       "1        None  289.36     0.00      0.0          75       Clouds   \n",
       "2        None  289.58     0.00      0.0          90       Clouds   \n",
       "3        None  290.13     0.00      0.0          90       Clouds   \n",
       "4        None  291.14     0.00      0.0          75       Clouds   \n",
       "...       ...     ...      ...      ...         ...          ...   \n",
       "48194    None  283.84     0.00      0.0          75         Rain   \n",
       "48195    None  283.84     0.00      0.0          75      Drizzle   \n",
       "48196    None  284.38     0.00      0.0          75         Rain   \n",
       "48197    None  284.79     0.00      0.0          75       Clouds   \n",
       "48198    None  284.20     0.25      0.0          75         Rain   \n",
       "\n",
       "           weather_description           date_time  traffic_volume  month  \\\n",
       "0             scattered clouds 2012-10-02 09:00:00            5545     10   \n",
       "1                broken clouds 2012-10-02 10:00:00            4516     10   \n",
       "2              overcast clouds 2012-10-02 11:00:00            4767     10   \n",
       "3              overcast clouds 2012-10-02 12:00:00            5026     10   \n",
       "4                broken clouds 2012-10-02 13:00:00            4918     10   \n",
       "...                        ...                 ...             ...    ...   \n",
       "48194    proximity shower rain 2018-09-30 15:00:00            4302      9   \n",
       "48195  light intensity drizzle 2018-09-30 15:00:00            4302      9   \n",
       "48196               light rain 2018-09-30 16:00:00            4283      9   \n",
       "48197            broken clouds 2018-09-30 17:00:00            4132      9   \n",
       "48198               light rain 2018-09-30 18:00:00            3947      9   \n",
       "\n",
       "      month_name  \n",
       "0        October  \n",
       "1        October  \n",
       "2        October  \n",
       "3        October  \n",
       "4        October  \n",
       "...          ...  \n",
       "48194  September  \n",
       "48195  September  \n",
       "48196  September  \n",
       "48197  September  \n",
       "48198  September  \n",
       "\n",
       "[23877 rows x 11 columns]"
      ]
     },
     "execution_count": 85,
     "metadata": {},
     "output_type": "execute_result"
    }
   ],
   "source": [
    "day"
   ]
  },
  {
   "cell_type": "code",
   "execution_count": 86,
   "id": "41c0851f",
   "metadata": {},
   "outputs": [
    {
     "data": {
      "text/plain": [
       "<pandas.core.groupby.generic.DataFrameGroupBy object at 0x0000028D951BE490>"
      ]
     },
     "execution_count": 86,
     "metadata": {},
     "output_type": "execute_result"
    }
   ],
   "source": [
    "day.groupby(\"month_name\")"
   ]
  },
  {
   "cell_type": "code",
   "execution_count": 87,
   "id": "6514fe82",
   "metadata": {},
   "outputs": [],
   "source": [
    "groups = day.groupby(\"month_name\")"
   ]
  },
  {
   "cell_type": "code",
   "execution_count": 91,
   "id": "c57c765e",
   "metadata": {},
   "outputs": [
    {
     "data": {
      "text/plain": [
       "month_name\n",
       "April        4906.894305\n",
       "August       4928.302035\n",
       "December     4374.834566\n",
       "February     4711.198394\n",
       "January      4495.613727\n",
       "July         4595.035744\n",
       "June         4898.019566\n",
       "March        4889.409560\n",
       "May          4911.121609\n",
       "November     4704.094319\n",
       "October      4921.234922\n",
       "September    4870.783145\n",
       "Name: traffic_volume, dtype: float64"
      ]
     },
     "execution_count": 91,
     "metadata": {},
     "output_type": "execute_result"
    }
   ],
   "source": [
    "groups[\"traffic_volume\"].mean()"
   ]
  },
  {
   "cell_type": "code",
   "execution_count": 92,
   "id": "76fc9775",
   "metadata": {},
   "outputs": [
    {
     "data": {
      "text/plain": [
       "<pandas.core.groupby.generic.DataFrameGroupBy object at 0x0000028D986E9350>"
      ]
     },
     "execution_count": 92,
     "metadata": {},
     "output_type": "execute_result"
    }
   ],
   "source": [
    "day.groupby(\"month\")"
   ]
  },
  {
   "cell_type": "code",
   "execution_count": 93,
   "id": "6d1c8f36",
   "metadata": {},
   "outputs": [],
   "source": [
    "group = day.groupby(\"month\")"
   ]
  },
  {
   "cell_type": "code",
   "execution_count": 96,
   "id": "9b9f3b4e",
   "metadata": {},
   "outputs": [
    {
     "data": {
      "text/plain": [
       "month\n",
       "1     4495.613727\n",
       "2     4711.198394\n",
       "3     4889.409560\n",
       "4     4906.894305\n",
       "5     4911.121609\n",
       "6     4898.019566\n",
       "7     4595.035744\n",
       "8     4928.302035\n",
       "9     4870.783145\n",
       "10    4921.234922\n",
       "11    4704.094319\n",
       "12    4374.834566\n",
       "Name: traffic_volume, dtype: float64"
      ]
     },
     "execution_count": 96,
     "metadata": {},
     "output_type": "execute_result"
    }
   ],
   "source": [
    "by_month = group[\"traffic_volume\"].mean()\n",
    "by_month"
   ]
  },
  {
   "cell_type": "code",
   "execution_count": 97,
   "id": "5a9ef644",
   "metadata": {},
   "outputs": [
    {
     "data": {
      "image/png": "[encoded data removed]",
      "text/plain": [
       "<Figure size 640x480 with 1 Axes>"
      ]
     },
     "metadata": {},
     "output_type": "display_data"
    }
   ],
   "source": [
    "by_month.plot.line()\n",
    "plt.show()"
   ]
  },
  {
   "cell_type": "code",
   "execution_count": 98,
   "id": "7c19a986",
   "metadata": {},
   "outputs": [
    {
     "data": {
      "text/plain": [
       "0        2012\n",
       "1        2012\n",
       "2        2012\n",
       "3        2012\n",
       "4        2012\n",
       "         ... \n",
       "48194    2018\n",
       "48195    2018\n",
       "48196    2018\n",
       "48197    2018\n",
       "48198    2018\n",
       "Name: date_time, Length: 23877, dtype: int64"
      ]
     },
     "execution_count": 98,
     "metadata": {},
     "output_type": "execute_result"
    }
   ],
   "source": [
    " day.date_time.dt.year"
   ]
  },
  {
   "cell_type": "code",
   "execution_count": 99,
   "id": "d8640bb0",
   "metadata": {},
   "outputs": [
    {
     "name": "stderr",
     "output_type": "stream",
     "text": [
      "C:\\Users\\hp 840g6\\AppData\\Local\\Temp\\ipykernel_3884\\3760803543.py:1: SettingWithCopyWarning: \n",
      "A value is trying to be set on a copy of a slice from a DataFrame.\n",
      "Try using .loc[row_indexer,col_indexer] = value instead\n",
      "\n",
      "See the caveats in the documentation: https://pandas.pydata.org/pandas-docs/stable/user_guide/indexing.html#returning-a-view-versus-a-copy\n",
      "  day[\"year\"] =  day.date_time.dt.year\n"
     ]
    }
   ],
   "source": [
    "day[\"year\"] =  day.date_time.dt.year"
   ]
  },
  {
   "cell_type": "code",
   "execution_count": 100,
   "id": "77f182e4",
   "metadata": {},
   "outputs": [
    {
     "data": {
      "text/html": [
       "<div>\n",
       "<style scoped>\n",
       "    .dataframe tbody tr th:only-of-type {\n",
       "        vertical-align: middle;\n",
       "    }\n",
       "\n",
       "    .dataframe tbody tr th {\n",
       "        vertical-align: top;\n",
       "    }\n",
       "\n",
       "    .dataframe thead th {\n",
       "        text-align: right;\n",
       "    }\n",
       "</style>\n",
       "<table border=\"1\" class=\"dataframe\">\n",
       "  <thead>\n",
       "    <tr style=\"text-align: right;\">\n",
       "      <th></th>\n",
       "      <th>holiday</th>\n",
       "      <th>temp</th>\n",
       "      <th>rain_1h</th>\n",
       "      <th>snow_1h</th>\n",
       "      <th>clouds_all</th>\n",
       "      <th>weather_main</th>\n",
       "      <th>weather_description</th>\n",
       "      <th>date_time</th>\n",
       "      <th>traffic_volume</th>\n",
       "      <th>month</th>\n",
       "      <th>month_name</th>\n",
       "      <th>year</th>\n",
       "    </tr>\n",
       "  </thead>\n",
       "  <tbody>\n",
       "    <tr>\n",
       "      <th>0</th>\n",
       "      <td>None</td>\n",
       "      <td>288.28</td>\n",
       "      <td>0.00</td>\n",
       "      <td>0.0</td>\n",
       "      <td>40</td>\n",
       "      <td>Clouds</td>\n",
       "      <td>scattered clouds</td>\n",
       "      <td>2012-10-02 09:00:00</td>\n",
       "      <td>5545</td>\n",
       "      <td>10</td>\n",
       "      <td>October</td>\n",
       "      <td>2012</td>\n",
       "    </tr>\n",
       "    <tr>\n",
       "      <th>1</th>\n",
       "      <td>None</td>\n",
       "      <td>289.36</td>\n",
       "      <td>0.00</td>\n",
       "      <td>0.0</td>\n",
       "      <td>75</td>\n",
       "      <td>Clouds</td>\n",
       "      <td>broken clouds</td>\n",
       "      <td>2012-10-02 10:00:00</td>\n",
       "      <td>4516</td>\n",
       "      <td>10</td>\n",
       "      <td>October</td>\n",
       "      <td>2012</td>\n",
       "    </tr>\n",
       "    <tr>\n",
       "      <th>2</th>\n",
       "      <td>None</td>\n",
       "      <td>289.58</td>\n",
       "      <td>0.00</td>\n",
       "      <td>0.0</td>\n",
       "      <td>90</td>\n",
       "      <td>Clouds</td>\n",
       "      <td>overcast clouds</td>\n",
       "      <td>2012-10-02 11:00:00</td>\n",
       "      <td>4767</td>\n",
       "      <td>10</td>\n",
       "      <td>October</td>\n",
       "      <td>2012</td>\n",
       "    </tr>\n",
       "    <tr>\n",
       "      <th>3</th>\n",
       "      <td>None</td>\n",
       "      <td>290.13</td>\n",
       "      <td>0.00</td>\n",
       "      <td>0.0</td>\n",
       "      <td>90</td>\n",
       "      <td>Clouds</td>\n",
       "      <td>overcast clouds</td>\n",
       "      <td>2012-10-02 12:00:00</td>\n",
       "      <td>5026</td>\n",
       "      <td>10</td>\n",
       "      <td>October</td>\n",
       "      <td>2012</td>\n",
       "    </tr>\n",
       "    <tr>\n",
       "      <th>4</th>\n",
       "      <td>None</td>\n",
       "      <td>291.14</td>\n",
       "      <td>0.00</td>\n",
       "      <td>0.0</td>\n",
       "      <td>75</td>\n",
       "      <td>Clouds</td>\n",
       "      <td>broken clouds</td>\n",
       "      <td>2012-10-02 13:00:00</td>\n",
       "      <td>4918</td>\n",
       "      <td>10</td>\n",
       "      <td>October</td>\n",
       "      <td>2012</td>\n",
       "    </tr>\n",
       "    <tr>\n",
       "      <th>...</th>\n",
       "      <td>...</td>\n",
       "      <td>...</td>\n",
       "      <td>...</td>\n",
       "      <td>...</td>\n",
       "      <td>...</td>\n",
       "      <td>...</td>\n",
       "      <td>...</td>\n",
       "      <td>...</td>\n",
       "      <td>...</td>\n",
       "      <td>...</td>\n",
       "      <td>...</td>\n",
       "      <td>...</td>\n",
       "    </tr>\n",
       "    <tr>\n",
       "      <th>48194</th>\n",
       "      <td>None</td>\n",
       "      <td>283.84</td>\n",
       "      <td>0.00</td>\n",
       "      <td>0.0</td>\n",
       "      <td>75</td>\n",
       "      <td>Rain</td>\n",
       "      <td>proximity shower rain</td>\n",
       "      <td>2018-09-30 15:00:00</td>\n",
       "      <td>4302</td>\n",
       "      <td>9</td>\n",
       "      <td>September</td>\n",
       "      <td>2018</td>\n",
       "    </tr>\n",
       "    <tr>\n",
       "      <th>48195</th>\n",
       "      <td>None</td>\n",
       "      <td>283.84</td>\n",
       "      <td>0.00</td>\n",
       "      <td>0.0</td>\n",
       "      <td>75</td>\n",
       "      <td>Drizzle</td>\n",
       "      <td>light intensity drizzle</td>\n",
       "      <td>2018-09-30 15:00:00</td>\n",
       "      <td>4302</td>\n",
       "      <td>9</td>\n",
       "      <td>September</td>\n",
       "      <td>2018</td>\n",
       "    </tr>\n",
       "    <tr>\n",
       "      <th>48196</th>\n",
       "      <td>None</td>\n",
       "      <td>284.38</td>\n",
       "      <td>0.00</td>\n",
       "      <td>0.0</td>\n",
       "      <td>75</td>\n",
       "      <td>Rain</td>\n",
       "      <td>light rain</td>\n",
       "      <td>2018-09-30 16:00:00</td>\n",
       "      <td>4283</td>\n",
       "      <td>9</td>\n",
       "      <td>September</td>\n",
       "      <td>2018</td>\n",
       "    </tr>\n",
       "    <tr>\n",
       "      <th>48197</th>\n",
       "      <td>None</td>\n",
       "      <td>284.79</td>\n",
       "      <td>0.00</td>\n",
       "      <td>0.0</td>\n",
       "      <td>75</td>\n",
       "      <td>Clouds</td>\n",
       "      <td>broken clouds</td>\n",
       "      <td>2018-09-30 17:00:00</td>\n",
       "      <td>4132</td>\n",
       "      <td>9</td>\n",
       "      <td>September</td>\n",
       "      <td>2018</td>\n",
       "    </tr>\n",
       "    <tr>\n",
       "      <th>48198</th>\n",
       "      <td>None</td>\n",
       "      <td>284.20</td>\n",
       "      <td>0.25</td>\n",
       "      <td>0.0</td>\n",
       "      <td>75</td>\n",
       "      <td>Rain</td>\n",
       "      <td>light rain</td>\n",
       "      <td>2018-09-30 18:00:00</td>\n",
       "      <td>3947</td>\n",
       "      <td>9</td>\n",
       "      <td>September</td>\n",
       "      <td>2018</td>\n",
       "    </tr>\n",
       "  </tbody>\n",
       "</table>\n",
       "<p>23877 rows × 12 columns</p>\n",
       "</div>"
      ],
      "text/plain": [
       "      holiday    temp  rain_1h  snow_1h  clouds_all weather_main  \\\n",
       "0        None  288.28     0.00      0.0          40       Clouds   \n",
       "1        None  289.36     0.00      0.0          75       Clouds   \n",
       "2        None  289.58     0.00      0.0          90       Clouds   \n",
       "3        None  290.13     0.00      0.0          90       Clouds   \n",
       "4        None  291.14     0.00      0.0          75       Clouds   \n",
       "...       ...     ...      ...      ...         ...          ...   \n",
       "48194    None  283.84     0.00      0.0          75         Rain   \n",
       "48195    None  283.84     0.00      0.0          75      Drizzle   \n",
       "48196    None  284.38     0.00      0.0          75         Rain   \n",
       "48197    None  284.79     0.00      0.0          75       Clouds   \n",
       "48198    None  284.20     0.25      0.0          75         Rain   \n",
       "\n",
       "           weather_description           date_time  traffic_volume  month  \\\n",
       "0             scattered clouds 2012-10-02 09:00:00            5545     10   \n",
       "1                broken clouds 2012-10-02 10:00:00            4516     10   \n",
       "2              overcast clouds 2012-10-02 11:00:00            4767     10   \n",
       "3              overcast clouds 2012-10-02 12:00:00            5026     10   \n",
       "4                broken clouds 2012-10-02 13:00:00            4918     10   \n",
       "...                        ...                 ...             ...    ...   \n",
       "48194    proximity shower rain 2018-09-30 15:00:00            4302      9   \n",
       "48195  light intensity drizzle 2018-09-30 15:00:00            4302      9   \n",
       "48196               light rain 2018-09-30 16:00:00            4283      9   \n",
       "48197            broken clouds 2018-09-30 17:00:00            4132      9   \n",
       "48198               light rain 2018-09-30 18:00:00            3947      9   \n",
       "\n",
       "      month_name  year  \n",
       "0        October  2012  \n",
       "1        October  2012  \n",
       "2        October  2012  \n",
       "3        October  2012  \n",
       "4        October  2012  \n",
       "...          ...   ...  \n",
       "48194  September  2018  \n",
       "48195  September  2018  \n",
       "48196  September  2018  \n",
       "48197  September  2018  \n",
       "48198  September  2018  \n",
       "\n",
       "[23877 rows x 12 columns]"
      ]
     },
     "execution_count": 100,
     "metadata": {},
     "output_type": "execute_result"
    }
   ],
   "source": [
    "day"
   ]
  },
  {
   "cell_type": "code",
   "execution_count": 105,
   "id": "e05b6176",
   "metadata": {},
   "outputs": [
    {
     "data": {
      "text/html": [
       "<div>\n",
       "<style scoped>\n",
       "    .dataframe tbody tr th:only-of-type {\n",
       "        vertical-align: middle;\n",
       "    }\n",
       "\n",
       "    .dataframe tbody tr th {\n",
       "        vertical-align: top;\n",
       "    }\n",
       "\n",
       "    .dataframe thead th {\n",
       "        text-align: right;\n",
       "    }\n",
       "</style>\n",
       "<table border=\"1\" class=\"dataframe\">\n",
       "  <thead>\n",
       "    <tr style=\"text-align: right;\">\n",
       "      <th></th>\n",
       "      <th>holiday</th>\n",
       "      <th>temp</th>\n",
       "      <th>rain_1h</th>\n",
       "      <th>snow_1h</th>\n",
       "      <th>clouds_all</th>\n",
       "      <th>weather_main</th>\n",
       "      <th>weather_description</th>\n",
       "      <th>date_time</th>\n",
       "      <th>traffic_volume</th>\n",
       "      <th>month</th>\n",
       "      <th>month_name</th>\n",
       "      <th>year</th>\n",
       "    </tr>\n",
       "  </thead>\n",
       "  <tbody>\n",
       "    <tr>\n",
       "      <th>7350</th>\n",
       "      <td>None</td>\n",
       "      <td>289.15</td>\n",
       "      <td>0.0</td>\n",
       "      <td>0.0</td>\n",
       "      <td>75</td>\n",
       "      <td>Clouds</td>\n",
       "      <td>broken clouds</td>\n",
       "      <td>2013-07-01 07:00:00</td>\n",
       "      <td>6783</td>\n",
       "      <td>7</td>\n",
       "      <td>July</td>\n",
       "      <td>2013</td>\n",
       "    </tr>\n",
       "    <tr>\n",
       "      <th>7351</th>\n",
       "      <td>None</td>\n",
       "      <td>291.59</td>\n",
       "      <td>0.0</td>\n",
       "      <td>0.0</td>\n",
       "      <td>1</td>\n",
       "      <td>Clear</td>\n",
       "      <td>sky is clear</td>\n",
       "      <td>2013-07-01 08:00:00</td>\n",
       "      <td>5742</td>\n",
       "      <td>7</td>\n",
       "      <td>July</td>\n",
       "      <td>2013</td>\n",
       "    </tr>\n",
       "    <tr>\n",
       "      <th>7352</th>\n",
       "      <td>None</td>\n",
       "      <td>294.15</td>\n",
       "      <td>0.0</td>\n",
       "      <td>0.0</td>\n",
       "      <td>1</td>\n",
       "      <td>Clear</td>\n",
       "      <td>sky is clear</td>\n",
       "      <td>2013-07-01 09:00:00</td>\n",
       "      <td>4764</td>\n",
       "      <td>7</td>\n",
       "      <td>July</td>\n",
       "      <td>2013</td>\n",
       "    </tr>\n",
       "    <tr>\n",
       "      <th>7353</th>\n",
       "      <td>None</td>\n",
       "      <td>295.60</td>\n",
       "      <td>0.0</td>\n",
       "      <td>0.0</td>\n",
       "      <td>1</td>\n",
       "      <td>Clear</td>\n",
       "      <td>sky is clear</td>\n",
       "      <td>2013-07-01 10:00:00</td>\n",
       "      <td>4669</td>\n",
       "      <td>7</td>\n",
       "      <td>July</td>\n",
       "      <td>2013</td>\n",
       "    </tr>\n",
       "    <tr>\n",
       "      <th>7354</th>\n",
       "      <td>None</td>\n",
       "      <td>297.15</td>\n",
       "      <td>0.0</td>\n",
       "      <td>0.0</td>\n",
       "      <td>1</td>\n",
       "      <td>Clear</td>\n",
       "      <td>sky is clear</td>\n",
       "      <td>2013-07-01 11:00:00</td>\n",
       "      <td>4863</td>\n",
       "      <td>7</td>\n",
       "      <td>July</td>\n",
       "      <td>2013</td>\n",
       "    </tr>\n",
       "    <tr>\n",
       "      <th>...</th>\n",
       "      <td>...</td>\n",
       "      <td>...</td>\n",
       "      <td>...</td>\n",
       "      <td>...</td>\n",
       "      <td>...</td>\n",
       "      <td>...</td>\n",
       "      <td>...</td>\n",
       "      <td>...</td>\n",
       "      <td>...</td>\n",
       "      <td>...</td>\n",
       "      <td>...</td>\n",
       "      <td>...</td>\n",
       "    </tr>\n",
       "    <tr>\n",
       "      <th>46313</th>\n",
       "      <td>None</td>\n",
       "      <td>301.29</td>\n",
       "      <td>0.0</td>\n",
       "      <td>0.0</td>\n",
       "      <td>20</td>\n",
       "      <td>Clouds</td>\n",
       "      <td>few clouds</td>\n",
       "      <td>2018-07-31 14:00:00</td>\n",
       "      <td>4922</td>\n",
       "      <td>7</td>\n",
       "      <td>July</td>\n",
       "      <td>2018</td>\n",
       "    </tr>\n",
       "    <tr>\n",
       "      <th>46314</th>\n",
       "      <td>None</td>\n",
       "      <td>301.43</td>\n",
       "      <td>0.0</td>\n",
       "      <td>0.0</td>\n",
       "      <td>40</td>\n",
       "      <td>Clouds</td>\n",
       "      <td>scattered clouds</td>\n",
       "      <td>2018-07-31 15:00:00</td>\n",
       "      <td>5722</td>\n",
       "      <td>7</td>\n",
       "      <td>July</td>\n",
       "      <td>2018</td>\n",
       "    </tr>\n",
       "    <tr>\n",
       "      <th>46315</th>\n",
       "      <td>None</td>\n",
       "      <td>302.00</td>\n",
       "      <td>0.0</td>\n",
       "      <td>0.0</td>\n",
       "      <td>40</td>\n",
       "      <td>Clouds</td>\n",
       "      <td>scattered clouds</td>\n",
       "      <td>2018-07-31 16:00:00</td>\n",
       "      <td>6357</td>\n",
       "      <td>7</td>\n",
       "      <td>July</td>\n",
       "      <td>2018</td>\n",
       "    </tr>\n",
       "    <tr>\n",
       "      <th>46316</th>\n",
       "      <td>None</td>\n",
       "      <td>302.29</td>\n",
       "      <td>0.0</td>\n",
       "      <td>0.0</td>\n",
       "      <td>20</td>\n",
       "      <td>Clouds</td>\n",
       "      <td>few clouds</td>\n",
       "      <td>2018-07-31 17:00:00</td>\n",
       "      <td>5912</td>\n",
       "      <td>7</td>\n",
       "      <td>July</td>\n",
       "      <td>2018</td>\n",
       "    </tr>\n",
       "    <tr>\n",
       "      <th>46317</th>\n",
       "      <td>None</td>\n",
       "      <td>301.93</td>\n",
       "      <td>0.0</td>\n",
       "      <td>0.0</td>\n",
       "      <td>20</td>\n",
       "      <td>Clouds</td>\n",
       "      <td>few clouds</td>\n",
       "      <td>2018-07-31 18:00:00</td>\n",
       "      <td>4740</td>\n",
       "      <td>7</td>\n",
       "      <td>July</td>\n",
       "      <td>2018</td>\n",
       "    </tr>\n",
       "  </tbody>\n",
       "</table>\n",
       "<p>2378 rows × 12 columns</p>\n",
       "</div>"
      ],
      "text/plain": [
       "      holiday    temp  rain_1h  snow_1h  clouds_all weather_main  \\\n",
       "7350     None  289.15      0.0      0.0          75       Clouds   \n",
       "7351     None  291.59      0.0      0.0           1        Clear   \n",
       "7352     None  294.15      0.0      0.0           1        Clear   \n",
       "7353     None  295.60      0.0      0.0           1        Clear   \n",
       "7354     None  297.15      0.0      0.0           1        Clear   \n",
       "...       ...     ...      ...      ...         ...          ...   \n",
       "46313    None  301.29      0.0      0.0          20       Clouds   \n",
       "46314    None  301.43      0.0      0.0          40       Clouds   \n",
       "46315    None  302.00      0.0      0.0          40       Clouds   \n",
       "46316    None  302.29      0.0      0.0          20       Clouds   \n",
       "46317    None  301.93      0.0      0.0          20       Clouds   \n",
       "\n",
       "      weather_description           date_time  traffic_volume  month  \\\n",
       "7350        broken clouds 2013-07-01 07:00:00            6783      7   \n",
       "7351         sky is clear 2013-07-01 08:00:00            5742      7   \n",
       "7352         sky is clear 2013-07-01 09:00:00            4764      7   \n",
       "7353         sky is clear 2013-07-01 10:00:00            4669      7   \n",
       "7354         sky is clear 2013-07-01 11:00:00            4863      7   \n",
       "...                   ...                 ...             ...    ...   \n",
       "46313          few clouds 2018-07-31 14:00:00            4922      7   \n",
       "46314    scattered clouds 2018-07-31 15:00:00            5722      7   \n",
       "46315    scattered clouds 2018-07-31 16:00:00            6357      7   \n",
       "46316          few clouds 2018-07-31 17:00:00            5912      7   \n",
       "46317          few clouds 2018-07-31 18:00:00            4740      7   \n",
       "\n",
       "      month_name  year  \n",
       "7350        July  2013  \n",
       "7351        July  2013  \n",
       "7352        July  2013  \n",
       "7353        July  2013  \n",
       "7354        July  2013  \n",
       "...          ...   ...  \n",
       "46313       July  2018  \n",
       "46314       July  2018  \n",
       "46315       July  2018  \n",
       "46316       July  2018  \n",
       "46317       July  2018  \n",
       "\n",
       "[2378 rows x 12 columns]"
      ]
     },
     "execution_count": 105,
     "metadata": {},
     "output_type": "execute_result"
    }
   ],
   "source": [
    "only_july = day[day[\"month\"] == 7]\n",
    "only_july"
   ]
  },
  {
   "cell_type": "code",
   "execution_count": 108,
   "id": "f9bf6022",
   "metadata": {},
   "outputs": [
    {
     "data": {
      "text/plain": [
       "year\n",
       "2013    4914.354054\n",
       "2014    4871.598240\n",
       "2015    4613.146226\n",
       "2016    3924.923645\n",
       "2017    4734.120301\n",
       "2018    4586.899543\n",
       "Name: traffic_volume, dtype: float64"
      ]
     },
     "execution_count": 108,
     "metadata": {},
     "output_type": "execute_result"
    }
   ],
   "source": [
    "only_july.groupby(\"year\")[\"traffic_volume\"].mean()"
   ]
  },
  {
   "cell_type": "code",
   "execution_count": 110,
   "id": "0856f7e9",
   "metadata": {},
   "outputs": [
    {
     "data": {
      "image/png": "[encoded data removed]",
      "text/plain": [
       "<Figure size 640x480 with 1 Axes>"
      ]
     },
     "metadata": {},
     "output_type": "display_data"
    }
   ],
   "source": [
    "only_july.groupby(\"year\")[\"traffic_volume\"].mean().plot.line()\n",
    "plt.show()"
   ]
  },
  {
   "cell_type": "markdown",
   "id": "f0c8df59",
   "metadata": {},
   "source": [
    "# Cause of Traffic Down in 2016 (July)\n",
    "\n",
    "https://www.crainsdetroit.com/article/20160728/NEWS/160729841/weekend-construction-i-96-us-23-bridge-work-i-94-lane-closures-i-696"
   ]
  }
 ],
 "metadata": {
  "kernelspec": {
   "display_name": "Python 3 (ipykernel)",
   "language": "python",
   "name": "python3"
  },
  "language_info": {
   "codemirror_mode": {
    "name": "ipython",
    "version": 3
   },
   "file_extension": ".py",
   "mimetype": "text/x-python",
   "name": "python",
   "nbconvert_exporter": "python",
   "pygments_lexer": "ipython3",
   "version": "3.11.4"
  }
 },
 "nbformat": 4,
 "nbformat_minor": 5
}
